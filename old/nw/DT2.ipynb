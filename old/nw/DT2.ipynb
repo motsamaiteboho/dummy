{
 "cells": [
  {
   "cell_type": "markdown",
   "id": "da794557",
   "metadata": {},
   "source": [
    "# Libraries"
   ]
  },
  {
   "cell_type": "code",
   "execution_count": 483,
   "id": "d5f7afa1",
   "metadata": {},
   "outputs": [],
   "source": [
    "# all libraries in from PP1\n",
    "#for train classifier, remove the Algorithms we're not looking for\n",
    "#look for f1_score and make_score metrics\n",
    "import numpy as np\n",
    "import pandas as pd\n",
    "import matplotlib.pyplot as plt\n",
    "%matplotlib inline\n",
    "from sklearn.preprocessing import LabelEncoder\n",
    "\n",
    "from sklearn.model_selection import KFold\n",
    "from sklearn.model_selection import cross_val_score\n",
    "from sklearn.metrics import roc_auc_score\n",
    "from sklearn.metrics import classification_report\n",
    "from sklearn.metrics import confusion_matrix\n",
    "from sklearn.model_selection import train_test_split\n",
    "from sklearn.neighbors import KNeighborsClassifier\n",
    "from sklearn.tree import DecisionTreeClassifier\n",
    "from sklearn.ensemble import RandomForestRegressor\n",
    "#from sklearn.ensemble import RandomForestClassifier [surely they do mention it]\n",
    "from sklearn.metrics import f1_score\n",
    "from sklearn.metrics import make_scorer\n",
    "from sklearn import metrics\n",
    "import scipy.stats as stats\n",
    "import seaborn as sns\n",
    "\n"
   ]
  },
  {
   "cell_type": "markdown",
   "id": "27f9e5a6",
   "metadata": {},
   "source": [
    "# 2.1 Import Data"
   ]
  },
  {
   "cell_type": "code",
   "execution_count": 513,
   "id": "4a7d9bcc",
   "metadata": {},
   "outputs": [],
   "source": [
    "meds = pd.read_csv(\"medicine.csv\")"
   ]
  },
  {
   "cell_type": "code",
   "execution_count": null,
   "id": "eabda964",
   "metadata": {},
   "outputs": [],
   "source": [
    "# average age of thosse with low blood pressure\n",
    "#col 1(AGE) col 2(Blood Pressure)\n",
    "avg_age = "
   ]
  },
  {
   "cell_type": "markdown",
   "id": "691ef7c5",
   "metadata": {},
   "source": [
    "# 2.2 inspect"
   ]
  },
  {
   "cell_type": "code",
   "execution_count": 485,
   "id": "f4af325f",
   "metadata": {},
   "outputs": [
    {
     "data": {
      "text/html": [
       "<div>\n",
       "<style scoped>\n",
       "    .dataframe tbody tr th:only-of-type {\n",
       "        vertical-align: middle;\n",
       "    }\n",
       "\n",
       "    .dataframe tbody tr th {\n",
       "        vertical-align: top;\n",
       "    }\n",
       "\n",
       "    .dataframe thead th {\n",
       "        text-align: right;\n",
       "    }\n",
       "</style>\n",
       "<table border=\"1\" class=\"dataframe\">\n",
       "  <thead>\n",
       "    <tr style=\"text-align: right;\">\n",
       "      <th></th>\n",
       "      <th>Age</th>\n",
       "      <th>Gender</th>\n",
       "      <th>Blood_Presure</th>\n",
       "      <th>Cholesterol</th>\n",
       "      <th>Ratio_Na_K</th>\n",
       "      <th>Medication</th>\n",
       "    </tr>\n",
       "  </thead>\n",
       "  <tbody>\n",
       "    <tr>\n",
       "      <th>0</th>\n",
       "      <td>23</td>\n",
       "      <td>Female</td>\n",
       "      <td>High</td>\n",
       "      <td>High</td>\n",
       "      <td>25.355</td>\n",
       "      <td>meds5</td>\n",
       "    </tr>\n",
       "    <tr>\n",
       "      <th>1</th>\n",
       "      <td>47</td>\n",
       "      <td>Male</td>\n",
       "      <td>Low</td>\n",
       "      <td>High</td>\n",
       "      <td>13.093</td>\n",
       "      <td>meds3</td>\n",
       "    </tr>\n",
       "    <tr>\n",
       "      <th>2</th>\n",
       "      <td>47</td>\n",
       "      <td>Male</td>\n",
       "      <td>Low</td>\n",
       "      <td>High</td>\n",
       "      <td>10.114</td>\n",
       "      <td>meds3</td>\n",
       "    </tr>\n",
       "    <tr>\n",
       "      <th>3</th>\n",
       "      <td>28</td>\n",
       "      <td>Female</td>\n",
       "      <td>Normal</td>\n",
       "      <td>High</td>\n",
       "      <td>7.798</td>\n",
       "      <td>meds4</td>\n",
       "    </tr>\n",
       "    <tr>\n",
       "      <th>4</th>\n",
       "      <td>61</td>\n",
       "      <td>Female</td>\n",
       "      <td>Low</td>\n",
       "      <td>High</td>\n",
       "      <td>18.043</td>\n",
       "      <td>meds5</td>\n",
       "    </tr>\n",
       "    <tr>\n",
       "      <th>5</th>\n",
       "      <td>22</td>\n",
       "      <td>Female</td>\n",
       "      <td>Normal</td>\n",
       "      <td>High</td>\n",
       "      <td>8.607</td>\n",
       "      <td>meds4</td>\n",
       "    </tr>\n",
       "    <tr>\n",
       "      <th>6</th>\n",
       "      <td>49</td>\n",
       "      <td>Female</td>\n",
       "      <td>Normal</td>\n",
       "      <td>High</td>\n",
       "      <td>16.275</td>\n",
       "      <td>meds5</td>\n",
       "    </tr>\n",
       "    <tr>\n",
       "      <th>7</th>\n",
       "      <td>41</td>\n",
       "      <td>Male</td>\n",
       "      <td>Low</td>\n",
       "      <td>High</td>\n",
       "      <td>11.037</td>\n",
       "      <td>meds3</td>\n",
       "    </tr>\n",
       "    <tr>\n",
       "      <th>8</th>\n",
       "      <td>60</td>\n",
       "      <td>Male</td>\n",
       "      <td>Normal</td>\n",
       "      <td>High</td>\n",
       "      <td>15.171</td>\n",
       "      <td>meds5</td>\n",
       "    </tr>\n",
       "    <tr>\n",
       "      <th>9</th>\n",
       "      <td>43</td>\n",
       "      <td>Male</td>\n",
       "      <td>Low</td>\n",
       "      <td>Normal</td>\n",
       "      <td>19.368</td>\n",
       "      <td>meds5</td>\n",
       "    </tr>\n",
       "    <tr>\n",
       "      <th>10</th>\n",
       "      <td>47</td>\n",
       "      <td>Female</td>\n",
       "      <td>Low</td>\n",
       "      <td>High</td>\n",
       "      <td>11.767</td>\n",
       "      <td>meds3</td>\n",
       "    </tr>\n",
       "    <tr>\n",
       "      <th>11</th>\n",
       "      <td>34</td>\n",
       "      <td>Female</td>\n",
       "      <td>High</td>\n",
       "      <td>Normal</td>\n",
       "      <td>19.199</td>\n",
       "      <td>meds5</td>\n",
       "    </tr>\n",
       "    <tr>\n",
       "      <th>12</th>\n",
       "      <td>43</td>\n",
       "      <td>Male</td>\n",
       "      <td>Low</td>\n",
       "      <td>High</td>\n",
       "      <td>15.376</td>\n",
       "      <td>meds5</td>\n",
       "    </tr>\n",
       "    <tr>\n",
       "      <th>13</th>\n",
       "      <td>74</td>\n",
       "      <td>Female</td>\n",
       "      <td>Low</td>\n",
       "      <td>High</td>\n",
       "      <td>20.942</td>\n",
       "      <td>meds5</td>\n",
       "    </tr>\n",
       "    <tr>\n",
       "      <th>14</th>\n",
       "      <td>50</td>\n",
       "      <td>Female</td>\n",
       "      <td>Normal</td>\n",
       "      <td>High</td>\n",
       "      <td>12.703</td>\n",
       "      <td>meds4</td>\n",
       "    </tr>\n",
       "    <tr>\n",
       "      <th>15</th>\n",
       "      <td>16</td>\n",
       "      <td>Female</td>\n",
       "      <td>High</td>\n",
       "      <td>Normal</td>\n",
       "      <td>15.516</td>\n",
       "      <td>meds5</td>\n",
       "    </tr>\n",
       "    <tr>\n",
       "      <th>16</th>\n",
       "      <td>69</td>\n",
       "      <td>Male</td>\n",
       "      <td>Low</td>\n",
       "      <td>Normal</td>\n",
       "      <td>11.455</td>\n",
       "      <td>meds4</td>\n",
       "    </tr>\n",
       "    <tr>\n",
       "      <th>17</th>\n",
       "      <td>43</td>\n",
       "      <td>Male</td>\n",
       "      <td>High</td>\n",
       "      <td>High</td>\n",
       "      <td>13.972</td>\n",
       "      <td>meds1</td>\n",
       "    </tr>\n",
       "    <tr>\n",
       "      <th>18</th>\n",
       "      <td>23</td>\n",
       "      <td>Male</td>\n",
       "      <td>Low</td>\n",
       "      <td>High</td>\n",
       "      <td>7.298</td>\n",
       "      <td>meds3</td>\n",
       "    </tr>\n",
       "    <tr>\n",
       "      <th>19</th>\n",
       "      <td>32</td>\n",
       "      <td>Female</td>\n",
       "      <td>High</td>\n",
       "      <td>Normal</td>\n",
       "      <td>25.974</td>\n",
       "      <td>meds5</td>\n",
       "    </tr>\n",
       "  </tbody>\n",
       "</table>\n",
       "</div>"
      ],
      "text/plain": [
       "    Age  Gender Blood_Presure Cholesterol  Ratio_Na_K Medication\n",
       "0    23  Female          High        High      25.355      meds5\n",
       "1    47    Male           Low        High      13.093      meds3\n",
       "2    47    Male           Low        High      10.114      meds3\n",
       "3    28  Female        Normal        High       7.798      meds4\n",
       "4    61  Female           Low        High      18.043      meds5\n",
       "5    22  Female        Normal        High       8.607      meds4\n",
       "6    49  Female        Normal        High      16.275      meds5\n",
       "7    41    Male           Low        High      11.037      meds3\n",
       "8    60    Male        Normal        High      15.171      meds5\n",
       "9    43    Male           Low      Normal      19.368      meds5\n",
       "10   47  Female           Low        High      11.767      meds3\n",
       "11   34  Female          High      Normal      19.199      meds5\n",
       "12   43    Male           Low        High      15.376      meds5\n",
       "13   74  Female           Low        High      20.942      meds5\n",
       "14   50  Female        Normal        High      12.703      meds4\n",
       "15   16  Female          High      Normal      15.516      meds5\n",
       "16   69    Male           Low      Normal      11.455      meds4\n",
       "17   43    Male          High        High      13.972      meds1\n",
       "18   23    Male           Low        High       7.298      meds3\n",
       "19   32  Female          High      Normal      25.974      meds5"
      ]
     },
     "execution_count": 485,
     "metadata": {},
     "output_type": "execute_result"
    }
   ],
   "source": [
    "meds.head(20)"
   ]
  },
  {
   "cell_type": "code",
   "execution_count": 486,
   "id": "da59256a",
   "metadata": {},
   "outputs": [
    {
     "data": {
      "text/html": [
       "<div>\n",
       "<style scoped>\n",
       "    .dataframe tbody tr th:only-of-type {\n",
       "        vertical-align: middle;\n",
       "    }\n",
       "\n",
       "    .dataframe tbody tr th {\n",
       "        vertical-align: top;\n",
       "    }\n",
       "\n",
       "    .dataframe thead th {\n",
       "        text-align: right;\n",
       "    }\n",
       "</style>\n",
       "<table border=\"1\" class=\"dataframe\">\n",
       "  <thead>\n",
       "    <tr style=\"text-align: right;\">\n",
       "      <th></th>\n",
       "      <th>Age</th>\n",
       "      <th>Gender</th>\n",
       "      <th>Blood_Presure</th>\n",
       "      <th>Cholesterol</th>\n",
       "      <th>Ratio_Na_K</th>\n",
       "      <th>Medication</th>\n",
       "    </tr>\n",
       "  </thead>\n",
       "  <tbody>\n",
       "    <tr>\n",
       "      <th>count</th>\n",
       "      <td>200.000000</td>\n",
       "      <td>200</td>\n",
       "      <td>200</td>\n",
       "      <td>200</td>\n",
       "      <td>200.000000</td>\n",
       "      <td>200</td>\n",
       "    </tr>\n",
       "    <tr>\n",
       "      <th>unique</th>\n",
       "      <td>NaN</td>\n",
       "      <td>2</td>\n",
       "      <td>3</td>\n",
       "      <td>2</td>\n",
       "      <td>NaN</td>\n",
       "      <td>5</td>\n",
       "    </tr>\n",
       "    <tr>\n",
       "      <th>top</th>\n",
       "      <td>NaN</td>\n",
       "      <td>Male</td>\n",
       "      <td>High</td>\n",
       "      <td>High</td>\n",
       "      <td>NaN</td>\n",
       "      <td>meds5</td>\n",
       "    </tr>\n",
       "    <tr>\n",
       "      <th>freq</th>\n",
       "      <td>NaN</td>\n",
       "      <td>104</td>\n",
       "      <td>77</td>\n",
       "      <td>103</td>\n",
       "      <td>NaN</td>\n",
       "      <td>91</td>\n",
       "    </tr>\n",
       "    <tr>\n",
       "      <th>mean</th>\n",
       "      <td>44.315000</td>\n",
       "      <td>NaN</td>\n",
       "      <td>NaN</td>\n",
       "      <td>NaN</td>\n",
       "      <td>16.084485</td>\n",
       "      <td>NaN</td>\n",
       "    </tr>\n",
       "    <tr>\n",
       "      <th>std</th>\n",
       "      <td>16.544315</td>\n",
       "      <td>NaN</td>\n",
       "      <td>NaN</td>\n",
       "      <td>NaN</td>\n",
       "      <td>7.223956</td>\n",
       "      <td>NaN</td>\n",
       "    </tr>\n",
       "    <tr>\n",
       "      <th>min</th>\n",
       "      <td>15.000000</td>\n",
       "      <td>NaN</td>\n",
       "      <td>NaN</td>\n",
       "      <td>NaN</td>\n",
       "      <td>6.269000</td>\n",
       "      <td>NaN</td>\n",
       "    </tr>\n",
       "    <tr>\n",
       "      <th>25%</th>\n",
       "      <td>31.000000</td>\n",
       "      <td>NaN</td>\n",
       "      <td>NaN</td>\n",
       "      <td>NaN</td>\n",
       "      <td>10.445500</td>\n",
       "      <td>NaN</td>\n",
       "    </tr>\n",
       "    <tr>\n",
       "      <th>50%</th>\n",
       "      <td>45.000000</td>\n",
       "      <td>NaN</td>\n",
       "      <td>NaN</td>\n",
       "      <td>NaN</td>\n",
       "      <td>13.936500</td>\n",
       "      <td>NaN</td>\n",
       "    </tr>\n",
       "    <tr>\n",
       "      <th>75%</th>\n",
       "      <td>58.000000</td>\n",
       "      <td>NaN</td>\n",
       "      <td>NaN</td>\n",
       "      <td>NaN</td>\n",
       "      <td>19.380000</td>\n",
       "      <td>NaN</td>\n",
       "    </tr>\n",
       "    <tr>\n",
       "      <th>max</th>\n",
       "      <td>74.000000</td>\n",
       "      <td>NaN</td>\n",
       "      <td>NaN</td>\n",
       "      <td>NaN</td>\n",
       "      <td>38.247000</td>\n",
       "      <td>NaN</td>\n",
       "    </tr>\n",
       "  </tbody>\n",
       "</table>\n",
       "</div>"
      ],
      "text/plain": [
       "               Age Gender Blood_Presure Cholesterol  Ratio_Na_K Medication\n",
       "count   200.000000    200           200         200  200.000000        200\n",
       "unique         NaN      2             3           2         NaN          5\n",
       "top            NaN   Male          High        High         NaN      meds5\n",
       "freq           NaN    104            77         103         NaN         91\n",
       "mean     44.315000    NaN           NaN         NaN   16.084485        NaN\n",
       "std      16.544315    NaN           NaN         NaN    7.223956        NaN\n",
       "min      15.000000    NaN           NaN         NaN    6.269000        NaN\n",
       "25%      31.000000    NaN           NaN         NaN   10.445500        NaN\n",
       "50%      45.000000    NaN           NaN         NaN   13.936500        NaN\n",
       "75%      58.000000    NaN           NaN         NaN   19.380000        NaN\n",
       "max      74.000000    NaN           NaN         NaN   38.247000        NaN"
      ]
     },
     "execution_count": 486,
     "metadata": {},
     "output_type": "execute_result"
    }
   ],
   "source": [
    "meds.describe(include=\"all\")"
   ]
  },
  {
   "cell_type": "code",
   "execution_count": 487,
   "id": "862d25d8",
   "metadata": {},
   "outputs": [
    {
     "name": "stdout",
     "output_type": "stream",
     "text": [
      "<class 'pandas.core.frame.DataFrame'>\n",
      "RangeIndex: 200 entries, 0 to 199\n",
      "Data columns (total 6 columns):\n",
      " #   Column         Non-Null Count  Dtype  \n",
      "---  ------         --------------  -----  \n",
      " 0   Age            200 non-null    int64  \n",
      " 1   Gender         200 non-null    object \n",
      " 2   Blood_Presure  200 non-null    object \n",
      " 3   Cholesterol    200 non-null    object \n",
      " 4   Ratio_Na_K     200 non-null    float64\n",
      " 5   Medication     200 non-null    object \n",
      "dtypes: float64(1), int64(1), object(4)\n",
      "memory usage: 9.5+ KB\n"
     ]
    }
   ],
   "source": [
    "meds.info()"
   ]
  },
  {
   "cell_type": "code",
   "execution_count": 488,
   "id": "cd37296a",
   "metadata": {},
   "outputs": [
    {
     "data": {
      "text/plain": [
       "Age              0\n",
       "Gender           0\n",
       "Blood_Presure    0\n",
       "Cholesterol      0\n",
       "Ratio_Na_K       0\n",
       "Medication       0\n",
       "dtype: int64"
      ]
     },
     "execution_count": 488,
     "metadata": {},
     "output_type": "execute_result"
    }
   ],
   "source": [
    "meds.isnull().sum()"
   ]
  },
  {
   "cell_type": "markdown",
   "id": "3cf313be",
   "metadata": {},
   "source": [
    "# 2.3 Visualise"
   ]
  },
  {
   "cell_type": "code",
   "execution_count": 489,
   "id": "361c33c8",
   "metadata": {},
   "outputs": [
    {
     "data": {
      "text/plain": [
       "<AxesSubplot:xlabel='Medication', ylabel='Ratio_Na_K'>"
      ]
     },
     "execution_count": 489,
     "metadata": {},
     "output_type": "execute_result"
    },
    {
     "data": {
      "image/png": "[encoded data removed]",
      "text/plain": [
       "<Figure size 2160x2160 with 2 Axes>"
      ]
     },
     "metadata": {
      "needs_background": "light"
     },
     "output_type": "display_data"
    }
   ],
   "source": [
    "f, axes = plt.subplots(nrows = 1, ncols = 2, figsize = (30, 30))\n",
    "sns.scatterplot(data = meds, x = \"Medication\", y = \"Age\", ax = axes[0])\n",
    "sns.scatterplot(data = meds, x = \"Medication\", y = \"Ratio_Na_K\", ax = axes[1])"
   ]
  },
  {
   "cell_type": "markdown",
   "id": "a27a4c26",
   "metadata": {},
   "source": [
    "# 2.4 Deduce from above"
   ]
  },
  {
   "cell_type": "code",
   "execution_count": 490,
   "id": "82cd6165",
   "metadata": {},
   "outputs": [
    {
     "name": "stdout",
     "output_type": "stream",
     "text": [
      "med 5 and 4 seem to have successfully treated people in most age groups with a good spread, med 3 seemingly worked in many age groups but worked on a low number of people, med 1 worked on age groups approximately younger than 50 and med 2 seemingly being effective in those older than 50.\n",
      "However, med 5 seems to have only successfully treated people with Ratio_Na_K higher than 15 while all the others were were    effective for those with a ratio less than 15.\n"
     ]
    }
   ],
   "source": [
    "print(\"med 5 and 4 seem to have successfully treated people in most age groups with a good spread, med 3 seemingly worked in many age groups but worked on a low number of people, med 1 worked on age groups approximately younger than 50 and med 2 seemingly being effective in those older than 50.\")\n",
    "print(\"However, med 5 seems to have only successfully treated people with Ratio_Na_K higher than 15 while all the others were were    effective for those with a ratio less than 15.\")"
   ]
  },
  {
   "cell_type": "markdown",
   "id": "d8a0a3f7",
   "metadata": {},
   "source": [
    "# 2.5 Determine and display the number of records relevant to each medication"
   ]
  },
  {
   "cell_type": "code",
   "execution_count": 491,
   "id": "7f99eaba",
   "metadata": {},
   "outputs": [
    {
     "data": {
      "text/plain": [
       "Medication\n",
       "meds1    23\n",
       "meds2    16\n",
       "meds3    16\n",
       "meds4    54\n",
       "meds5    91\n",
       "dtype: int64"
      ]
     },
     "execution_count": 491,
     "metadata": {},
     "output_type": "execute_result"
    }
   ],
   "source": [
    "#Unique value In the dependent and count , num of each unique category\n",
    "meds.groupby(\"Medication\").size()"
   ]
  },
  {
   "cell_type": "code",
   "execution_count": null,
   "id": "1c8472d7",
   "metadata": {},
   "outputs": [],
   "source": []
  },
  {
   "cell_type": "markdown",
   "id": "18095ed6",
   "metadata": {},
   "source": [
    "# 2.6 Determine whether the data is balanced"
   ]
  },
  {
   "cell_type": "code",
   "execution_count": 492,
   "id": "36bdcaa6",
   "metadata": {},
   "outputs": [
    {
     "data": {
      "image/png": "[encoded data removed]",
      "text/plain": [
       "<Figure size 1080x1080 with 1 Axes>"
      ]
     },
     "metadata": {},
     "output_type": "display_data"
    }
   ],
   "source": [
    "plt.figure(figsize=(15,15))\n",
    "plt.pie(meds.groupby(\"Medication\").size(), autopct ='%.2f%%', labels= meds.groupby(\"Medication\").indices,startangle=90)\n",
    "plt.show()"
   ]
  },
  {
   "cell_type": "markdown",
   "id": "ead4ba85",
   "metadata": {},
   "source": [
    "# 2.7 Perform the necessary operations to balance the data"
   ]
  },
  {
   "cell_type": "code",
   "execution_count": 493,
   "id": "1204bbca",
   "metadata": {
    "scrolled": true
   },
   "outputs": [
    {
     "data": {
      "text/html": [
       "<div>\n",
       "<style scoped>\n",
       "    .dataframe tbody tr th:only-of-type {\n",
       "        vertical-align: middle;\n",
       "    }\n",
       "\n",
       "    .dataframe tbody tr th {\n",
       "        vertical-align: top;\n",
       "    }\n",
       "\n",
       "    .dataframe thead th {\n",
       "        text-align: right;\n",
       "    }\n",
       "</style>\n",
       "<table border=\"1\" class=\"dataframe\">\n",
       "  <thead>\n",
       "    <tr style=\"text-align: right;\">\n",
       "      <th></th>\n",
       "      <th>Age</th>\n",
       "      <th>Gender</th>\n",
       "      <th>Blood_Presure</th>\n",
       "      <th>Cholesterol</th>\n",
       "      <th>Ratio_Na_K</th>\n",
       "      <th>Medication</th>\n",
       "    </tr>\n",
       "  </thead>\n",
       "  <tbody>\n",
       "    <tr>\n",
       "      <th>176</th>\n",
       "      <td>48</td>\n",
       "      <td>Male</td>\n",
       "      <td>High</td>\n",
       "      <td>Normal</td>\n",
       "      <td>10.446</td>\n",
       "      <td>meds1</td>\n",
       "    </tr>\n",
       "    <tr>\n",
       "      <th>176</th>\n",
       "      <td>48</td>\n",
       "      <td>Male</td>\n",
       "      <td>High</td>\n",
       "      <td>Normal</td>\n",
       "      <td>10.446</td>\n",
       "      <td>meds1</td>\n",
       "    </tr>\n",
       "    <tr>\n",
       "      <th>118</th>\n",
       "      <td>32</td>\n",
       "      <td>Female</td>\n",
       "      <td>High</td>\n",
       "      <td>Normal</td>\n",
       "      <td>10.292</td>\n",
       "      <td>meds1</td>\n",
       "    </tr>\n",
       "    <tr>\n",
       "      <th>76</th>\n",
       "      <td>36</td>\n",
       "      <td>Female</td>\n",
       "      <td>High</td>\n",
       "      <td>High</td>\n",
       "      <td>11.198</td>\n",
       "      <td>meds1</td>\n",
       "    </tr>\n",
       "    <tr>\n",
       "      <th>17</th>\n",
       "      <td>43</td>\n",
       "      <td>Male</td>\n",
       "      <td>High</td>\n",
       "      <td>High</td>\n",
       "      <td>13.972</td>\n",
       "      <td>meds1</td>\n",
       "    </tr>\n",
       "    <tr>\n",
       "      <th>...</th>\n",
       "      <td>...</td>\n",
       "      <td>...</td>\n",
       "      <td>...</td>\n",
       "      <td>...</td>\n",
       "      <td>...</td>\n",
       "      <td>...</td>\n",
       "    </tr>\n",
       "    <tr>\n",
       "      <th>123</th>\n",
       "      <td>36</td>\n",
       "      <td>Female</td>\n",
       "      <td>Normal</td>\n",
       "      <td>High</td>\n",
       "      <td>16.753</td>\n",
       "      <td>meds5</td>\n",
       "    </tr>\n",
       "    <tr>\n",
       "      <th>126</th>\n",
       "      <td>66</td>\n",
       "      <td>Male</td>\n",
       "      <td>High</td>\n",
       "      <td>High</td>\n",
       "      <td>16.347</td>\n",
       "      <td>meds5</td>\n",
       "    </tr>\n",
       "    <tr>\n",
       "      <th>87</th>\n",
       "      <td>69</td>\n",
       "      <td>Male</td>\n",
       "      <td>Low</td>\n",
       "      <td>High</td>\n",
       "      <td>15.478</td>\n",
       "      <td>meds5</td>\n",
       "    </tr>\n",
       "    <tr>\n",
       "      <th>73</th>\n",
       "      <td>41</td>\n",
       "      <td>Female</td>\n",
       "      <td>Normal</td>\n",
       "      <td>Normal</td>\n",
       "      <td>22.905</td>\n",
       "      <td>meds5</td>\n",
       "    </tr>\n",
       "    <tr>\n",
       "      <th>21</th>\n",
       "      <td>63</td>\n",
       "      <td>Male</td>\n",
       "      <td>Normal</td>\n",
       "      <td>High</td>\n",
       "      <td>25.917</td>\n",
       "      <td>meds5</td>\n",
       "    </tr>\n",
       "  </tbody>\n",
       "</table>\n",
       "<p>455 rows × 6 columns</p>\n",
       "</div>"
      ],
      "text/plain": [
       "     Age  Gender Blood_Presure Cholesterol  Ratio_Na_K Medication\n",
       "176   48    Male          High      Normal      10.446      meds1\n",
       "176   48    Male          High      Normal      10.446      meds1\n",
       "118   32  Female          High      Normal      10.292      meds1\n",
       "76    36  Female          High        High      11.198      meds1\n",
       "17    43    Male          High        High      13.972      meds1\n",
       "..   ...     ...           ...         ...         ...        ...\n",
       "123   36  Female        Normal        High      16.753      meds5\n",
       "126   66    Male          High        High      16.347      meds5\n",
       "87    69    Male           Low        High      15.478      meds5\n",
       "73    41  Female        Normal      Normal      22.905      meds5\n",
       "21    63    Male        Normal        High      25.917      meds5\n",
       "\n",
       "[455 rows x 6 columns]"
      ]
     },
     "execution_count": 493,
     "metadata": {},
     "output_type": "execute_result"
    }
   ],
   "source": [
    "meds_resampled = meds.groupby(\"Medication\").sample(n=91, replace = True, random_state=77)\n",
    "meds_resampled"
   ]
  },
  {
   "cell_type": "markdown",
   "id": "89716aae",
   "metadata": {},
   "source": [
    "# 2.8 Confirm the successful resampling of the data"
   ]
  },
  {
   "cell_type": "code",
   "execution_count": 494,
   "id": "a43dda88",
   "metadata": {},
   "outputs": [
    {
     "data": {
      "text/plain": [
       "Medication\n",
       "meds1    91\n",
       "meds2    91\n",
       "meds3    91\n",
       "meds4    91\n",
       "meds5    91\n",
       "dtype: int64"
      ]
     },
     "execution_count": 494,
     "metadata": {},
     "output_type": "execute_result"
    }
   ],
   "source": [
    "meds_resampled.groupby(\"Medication\").size()"
   ]
  },
  {
   "cell_type": "code",
   "execution_count": 495,
   "id": "cfff978d",
   "metadata": {},
   "outputs": [
    {
     "data": {
      "image/png": "[encoded data removed]",
      "text/plain": [
       "<Figure size 1080x1080 with 1 Axes>"
      ]
     },
     "metadata": {},
     "output_type": "display_data"
    }
   ],
   "source": [
    "plt.figure(figsize=(15,15))\n",
    "plt.pie(meds_resampled.groupby(\"Medication\").size(), autopct ='%.2f%%', labels= meds_resampled.groupby(\"Medication\").indices,startangle=90)\n",
    "plt.show()"
   ]
  },
  {
   "cell_type": "markdown",
   "id": "5f18df6c",
   "metadata": {},
   "source": [
    "# 2.9 Convert the text values in the dataframe to numeric values"
   ]
  },
  {
   "cell_type": "markdown",
   "id": "0ab16dc0",
   "metadata": {},
   "source": [
    "# from balnced data we are now using that"
   ]
  },
  {
   "cell_type": "code",
   "execution_count": 496,
   "id": "3224b960",
   "metadata": {},
   "outputs": [
    {
     "name": "stdout",
     "output_type": "stream",
     "text": [
      "Gender: ['Male' 'Female']\n",
      "\n",
      "Blood_Presure : ['High' 'Low' 'Normal']\n",
      "\n",
      "Cholesterol: ['Normal' 'High']\n",
      "\n",
      "Medication: ['meds1' 'meds2' 'meds3' 'meds4' 'meds5']\n",
      "\n"
     ]
    }
   ],
   "source": [
    "#since its little columns then check fror unique values\n",
    "print(f\"Gender: {meds_resampled['Gender'].unique()}\\n\")\n",
    "print(f\"Blood_Presure : {meds_resampled['Blood_Presure'].unique()}\\n\")\n",
    "print(f\"Cholesterol: {meds_resampled['Cholesterol'].unique()}\\n\")\n",
    "print(f\"Medication: {meds_resampled['Medication'].unique()}\\n\")"
   ]
  },
  {
   "cell_type": "code",
   "execution_count": 497,
   "id": "46aa5673",
   "metadata": {
    "scrolled": true
   },
   "outputs": [
    {
     "data": {
      "text/html": [
       "<div>\n",
       "<style scoped>\n",
       "    .dataframe tbody tr th:only-of-type {\n",
       "        vertical-align: middle;\n",
       "    }\n",
       "\n",
       "    .dataframe tbody tr th {\n",
       "        vertical-align: top;\n",
       "    }\n",
       "\n",
       "    .dataframe thead th {\n",
       "        text-align: right;\n",
       "    }\n",
       "</style>\n",
       "<table border=\"1\" class=\"dataframe\">\n",
       "  <thead>\n",
       "    <tr style=\"text-align: right;\">\n",
       "      <th></th>\n",
       "      <th>Age</th>\n",
       "      <th>Gender</th>\n",
       "      <th>Blood_Presure</th>\n",
       "      <th>Cholesterol</th>\n",
       "      <th>Ratio_Na_K</th>\n",
       "      <th>Medication</th>\n",
       "    </tr>\n",
       "  </thead>\n",
       "  <tbody>\n",
       "    <tr>\n",
       "      <th>176</th>\n",
       "      <td>48</td>\n",
       "      <td>1</td>\n",
       "      <td>0</td>\n",
       "      <td>1</td>\n",
       "      <td>10.446</td>\n",
       "      <td>0</td>\n",
       "    </tr>\n",
       "    <tr>\n",
       "      <th>176</th>\n",
       "      <td>48</td>\n",
       "      <td>1</td>\n",
       "      <td>0</td>\n",
       "      <td>1</td>\n",
       "      <td>10.446</td>\n",
       "      <td>0</td>\n",
       "    </tr>\n",
       "    <tr>\n",
       "      <th>118</th>\n",
       "      <td>32</td>\n",
       "      <td>0</td>\n",
       "      <td>0</td>\n",
       "      <td>1</td>\n",
       "      <td>10.292</td>\n",
       "      <td>0</td>\n",
       "    </tr>\n",
       "    <tr>\n",
       "      <th>76</th>\n",
       "      <td>36</td>\n",
       "      <td>0</td>\n",
       "      <td>0</td>\n",
       "      <td>0</td>\n",
       "      <td>11.198</td>\n",
       "      <td>0</td>\n",
       "    </tr>\n",
       "    <tr>\n",
       "      <th>17</th>\n",
       "      <td>43</td>\n",
       "      <td>1</td>\n",
       "      <td>0</td>\n",
       "      <td>0</td>\n",
       "      <td>13.972</td>\n",
       "      <td>0</td>\n",
       "    </tr>\n",
       "    <tr>\n",
       "      <th>83</th>\n",
       "      <td>38</td>\n",
       "      <td>0</td>\n",
       "      <td>0</td>\n",
       "      <td>1</td>\n",
       "      <td>11.326</td>\n",
       "      <td>0</td>\n",
       "    </tr>\n",
       "    <tr>\n",
       "      <th>187</th>\n",
       "      <td>47</td>\n",
       "      <td>1</td>\n",
       "      <td>0</td>\n",
       "      <td>0</td>\n",
       "      <td>10.403</td>\n",
       "      <td>0</td>\n",
       "    </tr>\n",
       "    <tr>\n",
       "      <th>137</th>\n",
       "      <td>35</td>\n",
       "      <td>0</td>\n",
       "      <td>0</td>\n",
       "      <td>0</td>\n",
       "      <td>12.894</td>\n",
       "      <td>0</td>\n",
       "    </tr>\n",
       "    <tr>\n",
       "      <th>174</th>\n",
       "      <td>42</td>\n",
       "      <td>1</td>\n",
       "      <td>0</td>\n",
       "      <td>1</td>\n",
       "      <td>12.766</td>\n",
       "      <td>0</td>\n",
       "    </tr>\n",
       "    <tr>\n",
       "      <th>17</th>\n",
       "      <td>43</td>\n",
       "      <td>1</td>\n",
       "      <td>0</td>\n",
       "      <td>0</td>\n",
       "      <td>13.972</td>\n",
       "      <td>0</td>\n",
       "    </tr>\n",
       "    <tr>\n",
       "      <th>191</th>\n",
       "      <td>23</td>\n",
       "      <td>1</td>\n",
       "      <td>0</td>\n",
       "      <td>0</td>\n",
       "      <td>8.011</td>\n",
       "      <td>0</td>\n",
       "    </tr>\n",
       "    <tr>\n",
       "      <th>66</th>\n",
       "      <td>29</td>\n",
       "      <td>1</td>\n",
       "      <td>0</td>\n",
       "      <td>0</td>\n",
       "      <td>12.856</td>\n",
       "      <td>0</td>\n",
       "    </tr>\n",
       "    <tr>\n",
       "      <th>191</th>\n",
       "      <td>23</td>\n",
       "      <td>1</td>\n",
       "      <td>0</td>\n",
       "      <td>0</td>\n",
       "      <td>8.011</td>\n",
       "      <td>0</td>\n",
       "    </tr>\n",
       "    <tr>\n",
       "      <th>66</th>\n",
       "      <td>29</td>\n",
       "      <td>1</td>\n",
       "      <td>0</td>\n",
       "      <td>0</td>\n",
       "      <td>12.856</td>\n",
       "      <td>0</td>\n",
       "    </tr>\n",
       "    <tr>\n",
       "      <th>187</th>\n",
       "      <td>47</td>\n",
       "      <td>1</td>\n",
       "      <td>0</td>\n",
       "      <td>0</td>\n",
       "      <td>10.403</td>\n",
       "      <td>0</td>\n",
       "    </tr>\n",
       "    <tr>\n",
       "      <th>147</th>\n",
       "      <td>26</td>\n",
       "      <td>0</td>\n",
       "      <td>0</td>\n",
       "      <td>1</td>\n",
       "      <td>12.307</td>\n",
       "      <td>0</td>\n",
       "    </tr>\n",
       "    <tr>\n",
       "      <th>144</th>\n",
       "      <td>39</td>\n",
       "      <td>1</td>\n",
       "      <td>0</td>\n",
       "      <td>0</td>\n",
       "      <td>9.664</td>\n",
       "      <td>0</td>\n",
       "    </tr>\n",
       "    <tr>\n",
       "      <th>147</th>\n",
       "      <td>26</td>\n",
       "      <td>0</td>\n",
       "      <td>0</td>\n",
       "      <td>1</td>\n",
       "      <td>12.307</td>\n",
       "      <td>0</td>\n",
       "    </tr>\n",
       "    <tr>\n",
       "      <th>110</th>\n",
       "      <td>50</td>\n",
       "      <td>1</td>\n",
       "      <td>0</td>\n",
       "      <td>0</td>\n",
       "      <td>7.490</td>\n",
       "      <td>0</td>\n",
       "    </tr>\n",
       "    <tr>\n",
       "      <th>83</th>\n",
       "      <td>38</td>\n",
       "      <td>0</td>\n",
       "      <td>0</td>\n",
       "      <td>1</td>\n",
       "      <td>11.326</td>\n",
       "      <td>0</td>\n",
       "    </tr>\n",
       "  </tbody>\n",
       "</table>\n",
       "</div>"
      ],
      "text/plain": [
       "     Age  Gender  Blood_Presure  Cholesterol  Ratio_Na_K  Medication\n",
       "176   48       1              0            1      10.446           0\n",
       "176   48       1              0            1      10.446           0\n",
       "118   32       0              0            1      10.292           0\n",
       "76    36       0              0            0      11.198           0\n",
       "17    43       1              0            0      13.972           0\n",
       "83    38       0              0            1      11.326           0\n",
       "187   47       1              0            0      10.403           0\n",
       "137   35       0              0            0      12.894           0\n",
       "174   42       1              0            1      12.766           0\n",
       "17    43       1              0            0      13.972           0\n",
       "191   23       1              0            0       8.011           0\n",
       "66    29       1              0            0      12.856           0\n",
       "191   23       1              0            0       8.011           0\n",
       "66    29       1              0            0      12.856           0\n",
       "187   47       1              0            0      10.403           0\n",
       "147   26       0              0            1      12.307           0\n",
       "144   39       1              0            0       9.664           0\n",
       "147   26       0              0            1      12.307           0\n",
       "110   50       1              0            0       7.490           0\n",
       "83    38       0              0            1      11.326           0"
      ]
     },
     "execution_count": 497,
     "metadata": {},
     "output_type": "execute_result"
    }
   ],
   "source": [
    "label_encoder = LabelEncoder()\n",
    "\n",
    "meds_resampled['Gender'] = label_encoder.fit_transform(meds_resampled['Gender'])\n",
    "meds_resampled['Blood_Presure'] = label_encoder.fit_transform(meds_resampled['Blood_Presure'])\n",
    "meds_resampled['Cholesterol'] = label_encoder.fit_transform(meds_resampled['Cholesterol'])\n",
    "meds_resampled['Medication'] = label_encoder.fit_transform(meds_resampled['Medication'])\n",
    "\n",
    "meds_resampled.head(20)"
   ]
  },
  {
   "cell_type": "markdown",
   "id": "6ab28439",
   "metadata": {},
   "source": [
    "# 2.10 Confirm that there are no more columns of type object."
   ]
  },
  {
   "cell_type": "code",
   "execution_count": 498,
   "id": "f27b83a8",
   "metadata": {
    "scrolled": true
   },
   "outputs": [
    {
     "name": "stdout",
     "output_type": "stream",
     "text": [
      "<class 'pandas.core.frame.DataFrame'>\n",
      "Int64Index: 455 entries, 176 to 21\n",
      "Data columns (total 6 columns):\n",
      " #   Column         Non-Null Count  Dtype  \n",
      "---  ------         --------------  -----  \n",
      " 0   Age            455 non-null    int64  \n",
      " 1   Gender         455 non-null    int32  \n",
      " 2   Blood_Presure  455 non-null    int32  \n",
      " 3   Cholesterol    455 non-null    int32  \n",
      " 4   Ratio_Na_K     455 non-null    float64\n",
      " 5   Medication     455 non-null    int32  \n",
      "dtypes: float64(1), int32(4), int64(1)\n",
      "memory usage: 17.8 KB\n"
     ]
    }
   ],
   "source": [
    "meds_resampled.info()"
   ]
  },
  {
   "cell_type": "code",
   "execution_count": 499,
   "id": "e015cdb3",
   "metadata": {},
   "outputs": [
    {
     "name": "stdout",
     "output_type": "stream",
     "text": [
      "Gender: [1 0]\n",
      "\n",
      "Blood_Presure : [0 1 2]\n",
      "\n",
      "Cholesterol: [1 0]\n",
      "\n",
      "Medication: [0 1 2 3 4]\n",
      "\n"
     ]
    }
   ],
   "source": [
    "print(f\"Gender: {meds_resampled['Gender'].unique()}\\n\")\n",
    "print(f\"Blood_Presure : {meds_resampled['Blood_Presure'].unique()}\\n\")\n",
    "print(f\"Cholesterol: {meds_resampled['Cholesterol'].unique()}\\n\")\n",
    "print(f\"Medication: {meds_resampled['Medication'].unique()}\\n\")"
   ]
  },
  {
   "cell_type": "markdown",
   "id": "e772fb28",
   "metadata": {},
   "source": [
    "# 2.11 Determine the correlation between Medication and the other data columns"
   ]
  },
  {
   "cell_type": "code",
   "execution_count": 500,
   "id": "15dd6b8e",
   "metadata": {},
   "outputs": [
    {
     "data": {
      "text/html": [
       "<div>\n",
       "<style scoped>\n",
       "    .dataframe tbody tr th:only-of-type {\n",
       "        vertical-align: middle;\n",
       "    }\n",
       "\n",
       "    .dataframe tbody tr th {\n",
       "        vertical-align: top;\n",
       "    }\n",
       "\n",
       "    .dataframe thead th {\n",
       "        text-align: right;\n",
       "    }\n",
       "</style>\n",
       "<table border=\"1\" class=\"dataframe\">\n",
       "  <thead>\n",
       "    <tr style=\"text-align: right;\">\n",
       "      <th></th>\n",
       "      <th>Medication</th>\n",
       "    </tr>\n",
       "  </thead>\n",
       "  <tbody>\n",
       "    <tr>\n",
       "      <th>Age</th>\n",
       "      <td>-0.062474</td>\n",
       "    </tr>\n",
       "    <tr>\n",
       "      <th>Gender</th>\n",
       "      <td>-0.059231</td>\n",
       "    </tr>\n",
       "    <tr>\n",
       "      <th>Blood_Presure</th>\n",
       "      <td>0.652708</td>\n",
       "    </tr>\n",
       "    <tr>\n",
       "      <th>Cholesterol</th>\n",
       "      <td>0.031694</td>\n",
       "    </tr>\n",
       "    <tr>\n",
       "      <th>Ratio_Na_K</th>\n",
       "      <td>0.546378</td>\n",
       "    </tr>\n",
       "    <tr>\n",
       "      <th>Medication</th>\n",
       "      <td>1.000000</td>\n",
       "    </tr>\n",
       "  </tbody>\n",
       "</table>\n",
       "</div>"
      ],
      "text/plain": [
       "               Medication\n",
       "Age             -0.062474\n",
       "Gender          -0.059231\n",
       "Blood_Presure    0.652708\n",
       "Cholesterol      0.031694\n",
       "Ratio_Na_K       0.546378\n",
       "Medication       1.000000"
      ]
     },
     "execution_count": 500,
     "metadata": {},
     "output_type": "execute_result"
    }
   ],
   "source": [
    "corr = meds_resampled.corr()\n",
    "corr = corr[['Medication']]\n",
    "corr"
   ]
  },
  {
   "cell_type": "code",
   "execution_count": 501,
   "id": "5b7b4ce9",
   "metadata": {
    "scrolled": true
   },
   "outputs": [
    {
     "data": {
      "text/plain": [
       "Text(0.5, 1.0, 'Heatmap of Correlation')"
      ]
     },
     "execution_count": 501,
     "metadata": {},
     "output_type": "execute_result"
    },
    {
     "data": {
      "image/png": "[encoded data removed]",
      "text/plain": [
       "<Figure size 864x720 with 2 Axes>"
      ]
     },
     "metadata": {
      "needs_background": "light"
     },
     "output_type": "display_data"
    }
   ],
   "source": [
    "plt.figure(figsize = (12,10))\n",
    "heat = sns.heatmap(data = corr, annot = True)\n",
    "plt.title('Heatmap of Correlation')"
   ]
  },
  {
   "cell_type": "markdown",
   "id": "62b9917d",
   "metadata": {},
   "source": [
    "# 2.12  What can be deduced from the correlation values"
   ]
  },
  {
   "cell_type": "code",
   "execution_count": 514,
   "id": "9fda9978",
   "metadata": {
    "scrolled": false
   },
   "outputs": [
    {
     "name": "stdout",
     "output_type": "stream",
     "text": [
      "Age and gender have a very weak negative correlation with medication and Cholesterol has a weak positive correlation with\n",
      "medication, so they have almost no influence.\n",
      "\n",
      "Blood Pressure and Ratio_Na_K have strong positive correlations with Ratio_Na_K having the strongest correlation, therefore\n",
      "they both strongly proportionate with medication, so increase in them equals an increase in succesive medication. According to the heatmap\n",
      "\n"
     ]
    }
   ],
   "source": [
    "print(\"Age and gender have a very weak negative correlation with medication and Cholesterol has a weak positive correlation with\\nmedication, so they have almost no influence.\")\n",
    "print(\"\")\n",
    "print(\"Blood Pressure and Ratio_Na_K have strong positive correlations with Ratio_Na_K having the strongest correlation, therefore\\nthey both strongly proportionate with medication, so increase in them equals an increase in succesive medication. According to the heatmap\")\n",
    "print(\"\")\n"
   ]
  },
  {
   "cell_type": "markdown",
   "id": "41988c57",
   "metadata": {},
   "source": [
    "# 2.13 Define X and y and create a training / testing dataset of 80% / 20%"
   ]
  },
  {
   "cell_type": "code",
   "execution_count": 515,
   "id": "37a993a6",
   "metadata": {},
   "outputs": [
    {
     "name": "stdout",
     "output_type": "stream",
     "text": [
      "(455, 5)\n",
      "(455,)\n"
     ]
    }
   ],
   "source": [
    "y = meds_resampled['Medication']\n",
    "X = meds_resampled.drop('Medication', axis=1)\n",
    "print(X.shape)\n",
    "print(y.shape)"
   ]
  },
  {
   "cell_type": "code",
   "execution_count": 516,
   "id": "be546e78",
   "metadata": {
    "scrolled": true
   },
   "outputs": [
    {
     "name": "stdout",
     "output_type": "stream",
     "text": [
      "Dim x train: (364, 5)\n",
      "Dim y train: (364,)\n",
      "Dim x test: (91, 5)\n",
      "Dim y test: (91,)\n"
     ]
    }
   ],
   "source": [
    "X_train, X_test, y_train, y_test = train_test_split(X, y, test_size = 0.2, random_state = 76)\n",
    "\n",
    "print(\"Dim x train:\",X_train.shape)\n",
    "print(\"Dim y train:\",y_train.shape)\n",
    "print(\"Dim x test:\",X_test.shape)\n",
    "print(\"Dim y test:\",y_test.shape)"
   ]
  },
  {
   "cell_type": "code",
   "execution_count": 505,
   "id": "d023da35",
   "metadata": {
    "scrolled": true
   },
   "outputs": [
    {
     "data": {
      "text/plain": [
       "<AxesSubplot:>"
      ]
     },
     "execution_count": 505,
     "metadata": {},
     "output_type": "execute_result"
    },
    {
     "data": {
      "image/png": "[encoded data removed]",
      "text/plain": [
       "<Figure size 2160x2160 with 2 Axes>"
      ]
     },
     "metadata": {
      "needs_background": "light"
     },
     "output_type": "display_data"
    }
   ],
   "source": [
    "f, axes = plt.subplots(nrows = 1, ncols = 2, figsize = (30, 30))\n",
    "sns.boxplot(data= X_train,  ax = axes[0])\n",
    "sns.boxplot(data = X_test,  ax = axes[1])"
   ]
  },
  {
   "cell_type": "code",
   "execution_count": 506,
   "id": "4a3264f6",
   "metadata": {
    "scrolled": true
   },
   "outputs": [],
   "source": [
    "\n",
    "X_train = stats.zscore(X_train) \n",
    "X_test = stats.zscore(X_test) \n",
    "\n"
   ]
  },
  {
   "cell_type": "code",
   "execution_count": 507,
   "id": "725e6a6e",
   "metadata": {
    "scrolled": true
   },
   "outputs": [
    {
     "data": {
      "text/plain": [
       "<AxesSubplot:>"
      ]
     },
     "execution_count": 507,
     "metadata": {},
     "output_type": "execute_result"
    },
    {
     "data": {
      "image/png": "[encoded data removed]",
      "text/plain": [
       "<Figure size 2160x2160 with 2 Axes>"
      ]
     },
     "metadata": {
      "needs_background": "light"
     },
     "output_type": "display_data"
    }
   ],
   "source": [
    "f, axes = plt.subplots(nrows = 1, ncols = 2, figsize = (30, 30))\n",
    "sns.boxplot(data= X_train,  ax = axes[0])\n",
    "sns.boxplot(data = X_test,  ax = axes[1])"
   ]
  },
  {
   "cell_type": "markdown",
   "id": "22882a1f",
   "metadata": {},
   "source": [
    "# 2.14 Train the following classifiers and determine the best model by using k-fold cross-validation"
   ]
  },
  {
   "cell_type": "code",
   "execution_count": 508,
   "id": "2595e280",
   "metadata": {},
   "outputs": [
    {
     "name": "stdout",
     "output_type": "stream",
     "text": [
      "KNN(acc): 0.920205 (0.036559)\n",
      "KNN(f1): 0.915421 (0.039877)\n",
      "CART(acc): 1.000000 (0.000000)\n",
      "CART(f1): 1.000000 (0.000000)\n",
      "RF(acc): 1.000000 (0.000000)\n",
      "RF(f1): 1.000000 (0.000000)\n"
     ]
    }
   ],
   "source": [
    "models = []\n",
    "\n",
    "models.append(('KNN', KNeighborsClassifier()))\n",
    "models.append(('CART', DecisionTreeClassifier()))\n",
    "models.append(('RF', RandomForestRegressor(n_estimators = 5, random_state = 77)))\n",
    "\n",
    "#testing models\n",
    "\n",
    "results = []\n",
    "names = []\n",
    "f1 = make_scorer(f1_score, average='weighted')\n",
    "for name, model in models:\n",
    "    kfold = KFold(n_splits = 5, random_state = 77, shuffle = True)\n",
    "    cv_results = cross_val_score(model, X_train, y_train, cv = kfold, scoring = 'accuracy')\n",
    "    results.append(cv_results)\n",
    "    names.append(name)\n",
    "    msg = '%s(acc): %f (%f)' % (name, cv_results.mean(), cv_results.std())\n",
    "    print(msg)\n",
    "    cv_results = cross_val_score(model, X_train, y_train, cv = kfold, scoring = f1)\n",
    "    results.append(cv_results)\n",
    "    names.append(name)\n",
    "    msg = '%s(f1): %f (%f)' % (name, cv_results.mean(), cv_results.std())\n",
    "    print(msg)"
   ]
  },
  {
   "cell_type": "markdown",
   "id": "99ccaabe",
   "metadata": {},
   "source": [
    "# 2.15 Select the model that produced the highest F1 score"
   ]
  },
  {
   "cell_type": "code",
   "execution_count": 509,
   "id": "08a1833d",
   "metadata": {},
   "outputs": [],
   "source": [
    "#diddnt show all\n",
    "#they wanted only for the high f1\n",
    "#we have two high f1 thus choose any\n",
    "#if it had parameter from inserting to the list of mosels, then you should include those parameters\n",
    "model = DecisionTreeClassifier()\n",
    "model.fit(X_train, y_train)\n",
    "predictions = model.predict(X_test)"
   ]
  },
  {
   "cell_type": "code",
   "execution_count": 510,
   "id": "27b98dbb",
   "metadata": {},
   "outputs": [
    {
     "name": "stdout",
     "output_type": "stream",
     "text": [
      "0.9120879120879121\n",
      "[[28  0  0  0  1]\n",
      " [ 0 16  0  0  2]\n",
      " [ 0  0 13  0  0]\n",
      " [ 0  0  0 10  5]\n",
      " [ 0  0  0  0 16]]\n",
      "              precision    recall  f1-score   support\n",
      "\n",
      "           0       1.00      0.97      0.98        29\n",
      "           1       1.00      0.89      0.94        18\n",
      "           2       1.00      1.00      1.00        13\n",
      "           3       1.00      0.67      0.80        15\n",
      "           4       0.67      1.00      0.80        16\n",
      "\n",
      "    accuracy                           0.91        91\n",
      "   macro avg       0.93      0.90      0.90        91\n",
      "weighted avg       0.94      0.91      0.91        91\n",
      "\n"
     ]
    }
   ],
   "source": [
    "print(metrics.accuracy_score(predictions, y_test))\n",
    "print(confusion_matrix(y_test, predictions))\n",
    "print(classification_report(y_test, predictions))"
   ]
  },
  {
   "cell_type": "markdown",
   "id": "851b9009",
   "metadata": {},
   "source": [
    "# 2.16 Discuss the selected model’s metrics and scores"
   ]
  },
  {
   "cell_type": "code",
   "execution_count": 519,
   "id": "c9c6303c",
   "metadata": {},
   "outputs": [
    {
     "name": "stdout",
     "output_type": "stream",
     "text": [
      "Its training accuracy(1.00) is higher than its testing accuracy(0.91) however 0.91 is still very high accuracy\n"
     ]
    }
   ],
   "source": [
    "print(\"Its training accuracy(1.00) is higher than its testing accuracy(0.91) however 0.91 is still very high accuracy\")"
   ]
  },
  {
   "cell_type": "code",
   "execution_count": 512,
   "id": "879f76f2",
   "metadata": {},
   "outputs": [
    {
     "name": "stdout",
     "output_type": "stream",
     "text": [
      "Precision: Ratio of correct predicted true positives over all positive predicted observations(TruePositives+FalsePositives);\n",
      " therefore higher the precision the lower the false positives\n",
      "Recall: Ratio of correct predicted true positives over all actual positive observations(TruePositives+FalseNegatives);\n",
      " therefore higher the recall the lower the false positives\n",
      "F1 is the weighted average of precision and recall and therefore takes into account the weight of the false positives and false negatives\n"
     ]
    }
   ],
   "source": [
    "\n",
    "print(\"Precision: Ratio of correct predicted true positives over all positive predicted observations(TruePositives+FalsePositives);\\n therefore higher the precision the lower the false positives\")\n",
    "print(\"Recall: Ratio of correct predicted true positives over all actual positive observations(TruePositives+FalseNegatives);\\n therefore higher the recall the lower the false positives\")\n",
    "print(\"F1 is the weighted average of precision and recall and therefore takes into account the weight of the false positives and false negatives\")"
   ]
  },
  {
   "cell_type": "code",
   "execution_count": null,
   "id": "b7fb1fab",
   "metadata": {},
   "outputs": [],
   "source": []
  }
 ],
 "metadata": {
  "kernelspec": {
   "display_name": "Python 3 (ipykernel)",
   "language": "python",
   "name": "python3"
  },
  "language_info": {
   "codemirror_mode": {
    "name": "ipython",
    "version": 3
   },
   "file_extension": ".py",
   "mimetype": "text/x-python",
   "name": "python",
   "nbconvert_exporter": "python",
   "pygments_lexer": "ipython3",
   "version": "3.9.12"
  }
 },
 "nbformat": 4,
 "nbformat_minor": 5
}
