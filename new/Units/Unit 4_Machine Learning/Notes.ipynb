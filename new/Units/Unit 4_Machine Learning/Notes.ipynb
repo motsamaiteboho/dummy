{
 "cells": [
  {
   "cell_type": "code",
   "execution_count": null,
   "id": "688eb736",
   "metadata": {},
   "outputs": [],
   "source": [
    "#Joining data\n",
    "df = df.join(df_vector)\n",
    "df.head()"
   ]
  },
  {
   "cell_type": "code",
   "execution_count": null,
   "id": "e00cc4ef",
   "metadata": {},
   "outputs": [],
   "source": [
    "#added a new colum for the calculated\n",
    "df['targets'] = targets"
   ]
  },
  {
   "cell_type": "code",
   "execution_count": null,
   "id": "0ab4433c",
   "metadata": {},
   "outputs": [],
   "source": [
    "#what draws the pie chart\n",
    "#the plt.pie can be plt.bar,histogram smtms\n",
    "plt.pie(np.c_[len(y)-np.sum(y),np.sum(y)][0],labels=['Full amount','Not fully funded'],colors=['r','g'],shadow=True,autopct ='%.2f' )\n",
    "fig = plt.gcf()\n",
    "fig.set_size_inches(6,6)\n",
    "\n"
   ]
  },
  {
   "cell_type": "code",
   "execution_count": null,
   "id": "8227ff12",
   "metadata": {},
   "outputs": [],
   "source": [
    "#1st list all columns that you need to drop\n",
    "drop_cols = ['id', 'member_id', 'grade', 'sub_grade','earliest_cr_line', 'emp_title', 'verification_status', 'issue_d', 'loan_status', 'pymnt_plan', 'url', 'desc', 'purpose', 'title', 'zip_code', 'addr_state', 'inq_last_6mths', 'mths_since_last_record', 'open_acc', 'pub_rec', 'revol_bal', 'revol_util', 'initial_list_status', 'out_prncp', 'out_prncp_inv', 'total_pymnt', 'total_pymnt_inv', 'total_rec_prncp', 'total_rec_int', 'total_rec_late_fee', 'recoveries', 'collection_recovery_fee', 'last_pymnt_d', 'last_pymnt_amnt', 'next_pymnt_d', 'last_credit_pull_d', 'collections_12_mths_ex_med', 'mths_since_last_major_derog', 'policy_code']\n",
    "df = df.drop(drop_cols,axis=1)"
   ]
  },
  {
   "cell_type": "code",
   "execution_count": null,
   "id": "c0f49140",
   "metadata": {},
   "outputs": [],
   "source": [
    "#Check what is going on in the data NaN\n",
    "#so you can know which columns to drop\n",
    "nan_feats=np.sum(np.where(np.isnan(x),1,0),axis=0)\n",
    "plt.bar(np.arange(len(nan_feats)),nan_feats)\n",
    "fig = plt.gcf()\n",
    "fig.set_size_inches((12,5))\n",
    "nan_feats"
   ]
  },
  {
   "cell_type": "code",
   "execution_count": null,
   "id": "bacd293c",
   "metadata": {},
   "outputs": [],
   "source": [
    "#counting number of items per grouped by \"column\n",
    "counts = df.groupby('country').size()"
   ]
  },
  {
   "cell_type": "code",
   "execution_count": null,
   "id": "37640e37",
   "metadata": {},
   "outputs": [],
   "source": [
    "# It is the breakdown of the data\n",
    "print(flowers.groupby('class').size())"
   ]
  },
  {
   "cell_type": "code",
   "execution_count": null,
   "id": "b9274535",
   "metadata": {},
   "outputs": [],
   "source": [
    "# histograms-univariant\n",
    "flowers.hist()\n",
    "plt.show()"
   ]
  },
  {
   "cell_type": "code",
   "execution_count": null,
   "id": "3c20d921",
   "metadata": {},
   "outputs": [],
   "source": [
    "#boxplot - univariant\n",
    "f, axes = plt.subplots(nrows = 2, ncols = 2, figsize = (26, 13))\n",
    "sns.boxplot(x = \"class\", y = \"sepal-length\", data = flowers, ax = axes[0,0])\n",
    "sns.boxplot(x = \"class\", y = \"sepal-width\", data = flowers, ax = axes[0,1])"
   ]
  },
  {
   "cell_type": "markdown",
   "id": "e9653ede",
   "metadata": {},
   "source": [
    "# balancing data"
   ]
  },
  {
   "cell_type": "code",
   "execution_count": null,
   "id": "391b22c9",
   "metadata": {},
   "outputs": [],
   "source": [
    "#splitting the data\n"
   ]
  },
  {
   "cell_type": "code",
   "execution_count": null,
   "id": "68092520",
   "metadata": {},
   "outputs": [],
   "source": [
    "#CH05\n",
    "#counts is the size of classes already grouped\n",
    "#add double %% in autopcts to give percentages\n",
    "# first get categories number\n",
    "counts =flowers.groupby('class').size()\n",
    "\n",
    "#imbalanced version\n",
    "plt.pie(counts,labels=['Iris-setosa','Iris -te', 'Iris-vinica'],colors=['r','g','y'],shadow=True,autopct ='%.2f%%' )\n",
    "fig = plt.gcf()\n",
    "fig.set_size_inches(6,6)\n"
   ]
  },
  {
   "cell_type": "code",
   "execution_count": null,
   "id": "a5315469",
   "metadata": {},
   "outputs": [],
   "source": [
    "#we're balancing\n",
    "under_sampling= flowers.grouby('class').sample(n=48, replace=True)\n",
    "under_sampling"
   ]
  },
  {
   "cell_type": "code",
   "execution_count": null,
   "id": "e068be0f",
   "metadata": {},
   "outputs": [],
   "source": [
    "#converting string into numeric we can do pie chart\n",
    "sampled=flower.groupby('class').size()"
   ]
  },
  {
   "cell_type": "code",
   "execution_count": null,
   "id": "283a0d26",
   "metadata": {},
   "outputs": [],
   "source": [
    "#balanced version\n",
    "plt.pie(sampled,labels=['Iris-setosa','Iris -te', 'Iris-vinica'],colors=['r','g','y'],shadow=True,autopct ='%.2f%%' )\n",
    "fig = plt.gcf()\n",
    "fig.set_size_inches(6,6)"
   ]
  }
 ],
 "metadata": {
  "kernelspec": {
   "display_name": "Python 3 (ipykernel)",
   "language": "python",
   "name": "python3"
  },
  "language_info": {
   "codemirror_mode": {
    "name": "ipython",
    "version": 3
   },
   "file_extension": ".py",
   "mimetype": "text/x-python",
   "name": "python",
   "nbconvert_exporter": "python",
   "pygments_lexer": "ipython3",
   "version": "3.9.12"
  }
 },
 "nbformat": 4,
 "nbformat_minor": 5
}
