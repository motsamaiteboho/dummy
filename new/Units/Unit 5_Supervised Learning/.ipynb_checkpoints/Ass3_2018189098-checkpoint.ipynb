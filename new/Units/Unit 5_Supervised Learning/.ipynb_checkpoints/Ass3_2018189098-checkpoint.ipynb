{
 "cells": [
  {
   "cell_type": "code",
   "execution_count": null,
   "id": "7b97ed20",
   "metadata": {},
   "outputs": [],
   "source": [
    "import numpy as np\n",
    "import pandas as pd\n",
    "\n",
    "from pandas.plotting import scatter_matrix\n",
    "import seaborn as sns\n",
    "#sns.set_style(\"whitegrid\")\n",
    "import matplotlib.pylab as plt\n",
    "%matplotlib inline "
   ]
  },
  {
   "cell_type": "markdown",
   "id": "b5d695a1",
   "metadata": {},
   "source": [
    "# Data Processing"
   ]
  },
  {
   "cell_type": "code",
   "execution_count": null,
   "id": "af338d5f",
   "metadata": {},
   "outputs": [],
   "source": [
    "cluster = pd.read_csv('flowers.csv',\n",
    "                     names = [\"sepal length\", \"sepal width\",\"petal length\", \"petal width\",\"Class\"])"
   ]
  },
  {
   "cell_type": "code",
   "execution_count": null,
   "id": "57868191",
   "metadata": {},
   "outputs": [],
   "source": [
    "cluster.head()"
   ]
  },
  {
   "cell_type": "code",
   "execution_count": null,
   "id": "a67f0892",
   "metadata": {},
   "outputs": [],
   "source": [
    "print('Rows:', cluster.shape[0], ' Colomns: ', cluster.shape[1])"
   ]
  },
  {
   "cell_type": "code",
   "execution_count": null,
   "id": "e79ea36e",
   "metadata": {},
   "outputs": [],
   "source": [
    "cluster.info()"
   ]
  },
  {
   "cell_type": "code",
   "execution_count": null,
   "id": "b4365df2",
   "metadata": {},
   "outputs": [],
   "source": [
    "#Checking for null values\n",
    "cluster.isnull().sum()"
   ]
  },
  {
   "cell_type": "code",
   "execution_count": null,
   "id": "1be174e8",
   "metadata": {},
   "outputs": [],
   "source": [
    "#boxplots before cleaning data\n",
    "cluster.boxplot(color = 'red')"
   ]
  },
  {
   "cell_type": "code",
   "execution_count": null,
   "id": "ae3dae94",
   "metadata": {},
   "outputs": [],
   "source": [
    "#remove outliers\n",
    "Q1 = cluster.quantile(0.25)\n",
    "Q3 = cluster.quantile(0.75)\n",
    "IQR = Q3 - Q1\n",
    "\n",
    "cluster = cluster[~((cluster < (Q1 - 2.5 * IQR)) |(cluster > (Q3 + 2.5 * IQR))).any(axis=1)]\n",
    "cluster"
   ]
  },
  {
   "cell_type": "code",
   "execution_count": null,
   "id": "5fd34142",
   "metadata": {},
   "outputs": [],
   "source": [
    "#boxplots After cleaning data\n",
    "cluster.boxplot(color = 'blue')"
   ]
  },
  {
   "cell_type": "code",
   "execution_count": null,
   "id": "5e3d4da6",
   "metadata": {},
   "outputs": [],
   "source": [
    "print('Rows:', cluster.shape[0], ' Colomns: ', cluster.shape[1])"
   ]
  },
  {
   "cell_type": "code",
   "execution_count": null,
   "id": "af7b9c9e",
   "metadata": {},
   "outputs": [],
   "source": [
    "#discriptive statistics\n",
    "cluster.describe(include='all'"
   ]
  },
  {
   "cell_type": "code",
   "execution_count": null,
   "id": "ff7c84d2",
   "metadata": {},
   "outputs": [],
   "source": [
    "#check if class values distributon\n",
    "cluster['Class'].value_counts()"
   ]
  },
  {
   "cell_type": "code",
   "execution_count": null,
   "id": "88efdd7a",
   "metadata": {},
   "outputs": [],
   "source": [
    "sns.countplot(cluster['Class'])"
   ]
  },
  {
   "cell_type": "markdown",
   "id": "26cc9718",
   "metadata": {},
   "source": [
    "# Visualising the data"
   ]
  },
  {
   "cell_type": "markdown",
   "id": "3041b40d",
   "metadata": {},
   "source": [
    "# Univariate plots"
   ]
  },
  {
   "cell_type": "code",
   "execution_count": null,
   "id": "b3b8fa02",
   "metadata": {},
   "outputs": [],
   "source": [
    "#boxplot\n",
    "col_names = cluster.columns\n",
    "\n",
    "cluster[col_names].plot(kind='box', subplots=True, layout=(2,2), sharex=False, sharey=False)\n",
    "plt.show()"
   ]
  },
  {
   "cell_type": "code",
   "execution_count": null,
   "id": "fd9341aa",
   "metadata": {},
   "outputs": [],
   "source": [
    "#histogram\n",
    "cluster[col_names].hist()\n",
    "plt.xlabel('Class')"
   ]
  },
  {
   "cell_type": "markdown",
   "id": "22d170e6",
   "metadata": {},
   "source": [
    "# Multivariant plots"
   ]
  },
  {
   "cell_type": "code",
   "execution_count": null,
   "id": "fcf6f1b1",
   "metadata": {},
   "outputs": [],
   "source": [
    "sns.pairplot(cluster, hue='Class', diag_kind='hist')"
   ]
  },
  {
   "cell_type": "markdown",
   "id": "bafa4059",
   "metadata": {},
   "source": [
    "# Split the dataset"
   ]
  },
  {
   "cell_type": "code",
   "execution_count": null,
   "id": "86fabef1",
   "metadata": {},
   "outputs": [],
   "source": [
    "X = cluster[[\"sepal length\", \"sepal width\",\"petal length\", \"petal width\"]]\n",
    "y = cluster['Class']"
   ]
  },
  {
   "cell_type": "code",
   "execution_count": null,
   "id": "8e9ecbbe",
   "metadata": {},
   "outputs": [],
   "source": [
    "# Split the data to train and test dataset.\n",
    "from sklearn.model_selection import train_test_split,KFold,cross_val_score\n",
    "\n",
    "xtrain,xtest, ytrain, ytest  = train_test_split(X, y, test_size=0.2)"
   ]
  },
  {
   "cell_type": "markdown",
   "id": "38221d6a",
   "metadata": {},
   "source": [
    "# Models"
   ]
  },
  {
   "cell_type": "code",
   "execution_count": null,
   "id": "d85e6843",
   "metadata": {},
   "outputs": [],
   "source": [
    "from sklearn.linear_model import LogisticRegression\n",
    "from sklearn.neighbors import KNeighborsClassifier\n",
    "from sklearn.tree import DecisionTreeClassifier\n",
    "from sklearn.svm import SVC\n",
    "\n",
    "# metrics\n",
    "from sklearn.metrics import accuracy_score\n",
    "from sklearn.metrics import classification_report\n",
    "from sklearn.metrics import confusion_matrix"
   ]
  },
  {
   "cell_type": "code",
   "execution_count": null,
   "id": "ef0fc175",
   "metadata": {},
   "outputs": [],
   "source": [
    "np.random.seed(1000)\n",
    "# initialize kfold for cross-validation\n",
    "k_fold = KFold(n_splits=10, shuffle=True, random_state=0)\n",
    "    \n",
    "# making a list of ml classification models\n",
    "models = []\n",
    "\n",
    "def classification_Models(xtrain,xtest, ytrain, ytest ):\n",
    "    models.append( ('LR',  LogisticRegression()) )\n",
    "    models.append( ('CART',DecisionTreeClassifier()) )\n",
    "    models.append( ('KNN', KNeighborsClassifier()) )\n",
    "    models.append( ('SVM',  SVC()) )\n",
    "\n",
    "    modeloutcomes = []\n",
    "    modelnames = []\n",
    "    for name,model in models:\n",
    "        v_results = cross_val_score(model, xtrain, ytrain, cv = k_fold, \n",
    "                                     scoring='accuracy', n_jobs = -1, verbose = 0)\n",
    "        print(name,v_results.mean())\n",
    "        modeloutcomes.append(v_results)\n",
    "        modelnames.append(name)\n",
    "        \n",
    "    print(modeloutcomes)\n",
    "    fig = plt.figure()\n",
    "    ax = fig.add_subplot(111)\n",
    "    ax.set_xticklabels(modelnames)\n",
    "    plt.boxplot(modeloutcomes)\n",
    "        \n",
    "classification_Models(xtrain,xtest, ytrain, ytest)"
   ]
  },
  {
   "cell_type": "markdown",
   "id": "e0f8f07d",
   "metadata": {},
   "source": [
    "# Evaluating and Predicting Models"
   ]
  },
  {
   "cell_type": "code",
   "execution_count": null,
   "id": "66063adf",
   "metadata": {},
   "outputs": [],
   "source": [
    "for name,model in models:\n",
    "    trainedmodel = model.fit(xtrain,ytrain)\n",
    "    \n",
    "    # prediction\n",
    "    ypredict = trainedmodel.predict(xtest)\n",
    "    \n",
    "    acc = accuracy_score(ytest,ypredict)\n",
    "    classreport = classification_report(ytest,ypredict)\n",
    "    confMat = confusion_matrix(ytest,ypredict)\n",
    "    \n",
    "    print('\\n****************************'+name)\n",
    "    print('The accuracy: {}'.format(acc))\n",
    "    print('The Confusion Matrix:\\n {}'.format(confMat))\n",
    "    print('The Classification Report:\\n {}'.format(classreport))"
   ]
  },
  {
   "cell_type": "code",
   "execution_count": null,
   "id": "300083bb",
   "metadata": {},
   "outputs": [],
   "source": []
  }
 ],
 "metadata": {
  "kernelspec": {
   "display_name": "Python 3 (ipykernel)",
   "language": "python",
   "name": "python3"
  },
  "language_info": {
   "codemirror_mode": {
    "name": "ipython",
    "version": 3
   },
   "file_extension": ".py",
   "mimetype": "text/x-python",
   "name": "python",
   "nbconvert_exporter": "python",
   "pygments_lexer": "ipython3",
   "version": "3.9.12"
  }
 },
 "nbformat": 4,
 "nbformat_minor": 5
}
