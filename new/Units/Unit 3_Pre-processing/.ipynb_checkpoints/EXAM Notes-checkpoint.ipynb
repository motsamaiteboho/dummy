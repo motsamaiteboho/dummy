{
 "cells": [
  {
   "cell_type": "code",
   "execution_count": null,
   "id": "f746b5f0",
   "metadata": {},
   "outputs": [],
   "source": [
    "#1 Then open the file\n",
    "   #Reading data from (text file) into an array\n",
    "\n",
    "#2 Replacing Methods\n",
    "      #Replace the word \"present/absent\" to \"true/false\"\n",
    "      #Replace '0/1' to \"False/True\"\n",
    "def chr_bool(value):\n",
    "    if value == 'Present' or value == '1\\n':\n",
    "        return bool(1)\n",
    "    else:\n",
    "        return bool(0)\n",
    "#3 Convert digits to integer\n",
    "def chr_int(value):\n",
    "    if value.isdigit():\n",
    "        return int(value)\n",
    "    else:\n",
    "        return 0 \n",
    "#4 Convert digits to float\n",
    "def is_float(value):\n",
    "    try:\n",
    "        float(value)\n",
    "        return True\n",
    "    except ValueError:\n",
    "        return False\n",
    "    \n",
    "def chr_float(value):\n",
    "    if is_float(value):\n",
    "        return float(value)\n",
    "    else:\n",
    "        return 0\n",
    "#data to Array all the same code, just the seperator and the col length\n",
    "Heart = []"
   ]
  },
  {
   "cell_type": "code",
   "execution_count": null,
   "id": "2253e9d9",
   "metadata": {},
   "outputs": [],
   "source": [
    "#Printing to check rows are correct\n",
    "data[1:20] - will specify how many\n",
    "#display records\n",
    "data.head(20)"
   ]
  },
  {
   "cell_type": "code",
   "execution_count": null,
   "id": "86b1b375",
   "metadata": {},
   "outputs": [],
   "source": [
    "#Count Fam History with heart disease\n",
    "#count fam histoty with heart disease\n",
    "GroupBy #because they put each data in its category\n"
   ]
  },
  {
   "cell_type": "code",
   "execution_count": null,
   "id": "3097c6df",
   "metadata": {},
   "outputs": [],
   "source": [
    "#to check if something is true or exctly as \" \"  *DS\n",
    " hd = Heart[(Heart.family_history == True)]\n",
    "#for pecenttage\n",
    "int(len(what you looking for)/ a whole * 100)"
   ]
  },
  {
   "cell_type": "code",
   "execution_count": null,
   "id": "dbe6c558",
   "metadata": {},
   "outputs": [],
   "source": [
    "#dealing with 2 columns, specify them the seperate\n",
    "#col1 fam_hist and col2 Coronary_Hd\n",
    "#col1 get big denominator\n",
    "family_history = Heart[(Heart.family_history == True)]\n",
    "family_history_heart_disease = Heart[(Heart.coronary_heart_disease == True) & (Heart.family_history == True)]\n",
    "print('The % family history with coronary Hd: ', int(len(family_history_heart_disease)/float(len(family_history))*100), '%.')"
   ]
  },
  {
   "cell_type": "code",
   "execution_count": null,
   "id": "879c5ff8",
   "metadata": {},
   "outputs": [],
   "source": [
    "# two columns with MEAN and MEDIAN\n",
    "#the number column, doesnt have the defining\n",
    "CHD = Heart[(Heart.coronary_heart_disease == True)]\n",
    "print('middle age', CHD.age.median())"
   ]
  },
  {
   "cell_type": "code",
   "execution_count": null,
   "id": "a11d37c5",
   "metadata": {},
   "outputs": [],
   "source": [
    "#REASONS\n",
    "print('No... The chances of outliers are very slim because the mean and the median age are very similar.')"
   ]
  },
  {
   "cell_type": "code",
   "execution_count": null,
   "id": "0dce8778",
   "metadata": {},
   "outputs": [],
   "source": [
    "#For Overlapping Histograms   *DS\n",
    "#2 data's you worked with from the begining\n",
    "fam_hist = Heart[(Heart.family_history == True) & (Heart.coronary_heart_disease ==True)]\n",
    "Nofam_hist = Heart[(Heart.family_history == False)  & (Heart.coronary_heart_disease ==True)]\n",
    "\n",
    "#The combine it with the AGe #look as DS single plot\n",
    "fam_age=fam_hist['age']\n",
    "Nofam_age = Nofam_hist['age']\n",
    "\n",
    "#Copy plots from DS\n",
    "import seaborn as sns\n",
    "fam_age.hist(normed=0, histtype='stepfilled', alpha=.5, bins=20)   # default number of bins = 10\n",
    "Nofam_age.hist(normed=0, histtype='stepfilled', alpha=.5, color=sns.desaturate(\"indianred\", .75), bins=10)\n",
    "plt.xlabel('Age',fontsize=15)\n",
    "plt.ylabel('Samples',fontsize=15)\n",
    "plt.show()"
   ]
  }
 ],
 "metadata": {
  "kernelspec": {
   "display_name": "Python 3 (ipykernel)",
   "language": "python",
   "name": "python3"
  },
  "language_info": {
   "codemirror_mode": {
    "name": "ipython",
    "version": 3
   },
   "file_extension": ".py",
   "mimetype": "text/x-python",
   "name": "python",
   "nbconvert_exporter": "python",
   "pygments_lexer": "ipython3",
   "version": "3.9.12"
  }
 },
 "nbformat": 4,
 "nbformat_minor": 5
}
