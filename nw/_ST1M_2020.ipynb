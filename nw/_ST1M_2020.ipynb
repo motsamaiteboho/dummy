{
 "cells": [
  {
   "cell_type": "markdown",
   "metadata": {},
   "source": [
    "**2.1** Read the data from the file, \"Heart.txt\" into an array called \"HeartArray\". Create three methods to do the following while reading the data into the array:\n",
    "* The first method should replace the word \"Present\" with a boolean \"true\" value and the word \"Absent\" with a boolean \"false\" value. It should also convert the values in the last column form '1' to true or from '0' to false.\n",
    "* The second method should convert digit values to integer values if the value in the column involved is an integer.\n",
    "* The third method should convert digits values to float values if the value in the column involved is a float.\n",
    "\n",
    "[10 Marks]"
   ]
  },
  {
   "cell_type": "code",
   "execution_count": 1,
   "metadata": {},
   "outputs": [],
   "source": [
    "import pandas as pd\n",
    "import numpy as np\n",
    "import matplotlib.pyplot as plt\n",
    "\n",
    "file = open('Heart.txt', 'r')\n",
    "\n",
    "def chr_bool(value):\n",
    "    if value == 'Present' or value == '1\\n':\n",
    "        return bool(1)\n",
    "    else:\n",
    "        return bool(0)\n",
    "    \n",
    "def chr_int(value):\n",
    "    if value.isdigit():\n",
    "        return int(value)\n",
    "    else:\n",
    "        return 0\n",
    "    \n",
    "def is_float(value):\n",
    "    try:\n",
    "        float(value)\n",
    "        return True\n",
    "    except ValueError:\n",
    "        return False\n",
    "    \n",
    "def chr_float(value):\n",
    "    if is_float(value):\n",
    "        return float(value)\n",
    "    else:\n",
    "        return 0\n",
    "    \n",
    "HeartArray = []\n",
    "\n",
    "for line in file:\n",
    "     row = line.split(';')\n",
    "     if len(row) == 11:\n",
    "        HeartArray.append([chr_int(row[0]), chr_int(row[1]), chr_float(row[2]), chr_float(row[3]),\n",
    "                           chr_float(row[4]), chr_bool(row[5]), chr_int(row[6]), chr_float(row[7]),\n",
    "                           chr_float(row[8]), chr_int(row[9]), chr_bool(row[10])])"
   ]
  },
  {
   "cell_type": "markdown",
   "metadata": {},
   "source": [
    "**2.2** Print the first 20 rows of HeartArray to see if the data was read into the array correctly.\n",
    "\n",
    "[1 Mark]"
   ]
  },
  {
   "cell_type": "code",
   "execution_count": 2,
   "metadata": {
    "scrolled": false
   },
   "outputs": [
    {
     "name": "stdout",
     "output_type": "stream",
     "text": [
      "[[1, 160, 12.0, 5.73, 23.11, True, 49, 25.3, 97.2, 52, True], [2, 144, 0.01, 4.41, 28.61, False, 55, 28.87, 2.06, 63, True], [3, 118, 0.08, 3.48, 32.28, True, 52, 29.14, 3.81, 46, False], [4, 170, 7.5, 6.41, 38.03, True, 51, 31.99, 24.26, 58, True], [5, 134, 13.6, 3.5, 27.78, True, 60, 25.99, 57.34, 49, True], [6, 132, 6.2, 6.47, 36.21, True, 62, 30.77, 14.14, 45, False], [7, 142, 4.05, 3.38, 16.2, False, 59, 20.81, 2.62, 38, False], [8, 114, 4.08, 4.59, 14.6, True, 62, 23.11, 6.72, 58, True], [9, 114, 0.0, 3.83, 19.4, True, 49, 24.86, 2.49, 29, False], [10, 132, 0.0, 5.8, 30.96, True, 69, 30.11, 0.0, 53, True], [11, 206, 6.0, 2.95, 32.27, False, 72, 26.81, 56.06, 60, True], [12, 134, 14.1, 4.44, 22.39, True, 65, 23.09, 0.0, 40, True], [13, 118, 0.0, 1.88, 10.05, False, 59, 21.57, 0.0, 17, False], [14, 132, 0.0, 1.87, 17.21, False, 49, 23.63, 0.97, 15, False], [15, 112, 9.65, 2.29, 17.2, True, 54, 23.53, 0.68, 53, False], [16, 117, 1.53, 2.44, 28.95, True, 35, 25.89, 30.03, 46, False], [17, 120, 7.5, 15.33, 22.0, False, 60, 25.31, 34.49, 49, False], [18, 146, 10.5, 8.29, 35.36, True, 78, 32.73, 13.89, 53, True], [19, 158, 2.6, 7.46, 34.07, True, 61, 29.3, 53.28, 62, True]]\n"
     ]
    }
   ],
   "source": [
    "print(HeartArray[1:20])"
   ]
  },
  {
   "cell_type": "markdown",
   "metadata": {},
   "source": [
    "**2.3** Import HeartArray into a newly created Pandas DataFrame called \"Heart\". Specify the following column names:\n",
    "* index\n",
    "* systolic_blood_presure\n",
    "* cumulative_tobacco(kg)\n",
    "* cholesterol\n",
    "* adiposity\n",
    "* family_history\n",
    "* typea\n",
    "* obesity\n",
    "* alcohol_consumption\n",
    "* age\n",
    "* coronary_heart_disease\n",
    "\n",
    "[2 Marks]"
   ]
  },
  {
   "cell_type": "code",
   "execution_count": 3,
   "metadata": {},
   "outputs": [],
   "source": [
    "Heart = pd.DataFrame(HeartArray)\n",
    "Heart.columns = ['index', \n",
    "                 'systolic_blood_presure',\n",
    "                 'cumulative_tobacco(kg)',\n",
    "                 'cholesterol',\n",
    "                 'adiposity',\n",
    "                 'family_history',\n",
    "                 'typea',\n",
    "                 'obesity',\n",
    "                 'alcohol_consumption',\n",
    "                 'age',\n",
    "                 'coronary_heart_disease']"
   ]
  },
  {
   "cell_type": "markdown",
   "metadata": {},
   "source": [
    "**2.4** Display the last 20 records in the DataFrame you created in 2.3.\n",
    "\n",
    "[1 Mark]"
   ]
  },
  {
   "cell_type": "code",
   "execution_count": 4,
   "metadata": {},
   "outputs": [
    {
     "data": {
      "text/html": [
       "<div>\n",
       "<style scoped>\n",
       "    .dataframe tbody tr th:only-of-type {\n",
       "        vertical-align: middle;\n",
       "    }\n",
       "\n",
       "    .dataframe tbody tr th {\n",
       "        vertical-align: top;\n",
       "    }\n",
       "\n",
       "    .dataframe thead th {\n",
       "        text-align: right;\n",
       "    }\n",
       "</style>\n",
       "<table border=\"1\" class=\"dataframe\">\n",
       "  <thead>\n",
       "    <tr style=\"text-align: right;\">\n",
       "      <th></th>\n",
       "      <th>index</th>\n",
       "      <th>systolic_blood_presure</th>\n",
       "      <th>cumulative_tobacco(kg)</th>\n",
       "      <th>cholesterol</th>\n",
       "      <th>adiposity</th>\n",
       "      <th>family_history</th>\n",
       "      <th>typea</th>\n",
       "      <th>obesity</th>\n",
       "      <th>alcohol_consumption</th>\n",
       "      <th>age</th>\n",
       "      <th>coronary_heart_disease</th>\n",
       "    </tr>\n",
       "  </thead>\n",
       "  <tbody>\n",
       "    <tr>\n",
       "      <th>443</th>\n",
       "      <td>444</td>\n",
       "      <td>166</td>\n",
       "      <td>6.00</td>\n",
       "      <td>8.80</td>\n",
       "      <td>37.89</td>\n",
       "      <td>False</td>\n",
       "      <td>39</td>\n",
       "      <td>28.70</td>\n",
       "      <td>43.20</td>\n",
       "      <td>52</td>\n",
       "      <td>False</td>\n",
       "    </tr>\n",
       "    <tr>\n",
       "      <th>444</th>\n",
       "      <td>445</td>\n",
       "      <td>134</td>\n",
       "      <td>0.57</td>\n",
       "      <td>4.75</td>\n",
       "      <td>23.07</td>\n",
       "      <td>False</td>\n",
       "      <td>67</td>\n",
       "      <td>26.33</td>\n",
       "      <td>0.00</td>\n",
       "      <td>37</td>\n",
       "      <td>False</td>\n",
       "    </tr>\n",
       "    <tr>\n",
       "      <th>445</th>\n",
       "      <td>446</td>\n",
       "      <td>142</td>\n",
       "      <td>3.00</td>\n",
       "      <td>3.69</td>\n",
       "      <td>25.10</td>\n",
       "      <td>False</td>\n",
       "      <td>60</td>\n",
       "      <td>30.08</td>\n",
       "      <td>38.88</td>\n",
       "      <td>27</td>\n",
       "      <td>False</td>\n",
       "    </tr>\n",
       "    <tr>\n",
       "      <th>446</th>\n",
       "      <td>447</td>\n",
       "      <td>136</td>\n",
       "      <td>2.80</td>\n",
       "      <td>2.53</td>\n",
       "      <td>9.28</td>\n",
       "      <td>True</td>\n",
       "      <td>61</td>\n",
       "      <td>20.70</td>\n",
       "      <td>4.55</td>\n",
       "      <td>25</td>\n",
       "      <td>False</td>\n",
       "    </tr>\n",
       "    <tr>\n",
       "      <th>447</th>\n",
       "      <td>448</td>\n",
       "      <td>142</td>\n",
       "      <td>0.00</td>\n",
       "      <td>4.32</td>\n",
       "      <td>25.22</td>\n",
       "      <td>False</td>\n",
       "      <td>47</td>\n",
       "      <td>28.92</td>\n",
       "      <td>6.53</td>\n",
       "      <td>34</td>\n",
       "      <td>True</td>\n",
       "    </tr>\n",
       "    <tr>\n",
       "      <th>448</th>\n",
       "      <td>449</td>\n",
       "      <td>130</td>\n",
       "      <td>0.00</td>\n",
       "      <td>1.88</td>\n",
       "      <td>12.51</td>\n",
       "      <td>True</td>\n",
       "      <td>52</td>\n",
       "      <td>20.28</td>\n",
       "      <td>0.00</td>\n",
       "      <td>17</td>\n",
       "      <td>False</td>\n",
       "    </tr>\n",
       "    <tr>\n",
       "      <th>449</th>\n",
       "      <td>450</td>\n",
       "      <td>124</td>\n",
       "      <td>1.80</td>\n",
       "      <td>3.74</td>\n",
       "      <td>16.64</td>\n",
       "      <td>True</td>\n",
       "      <td>42</td>\n",
       "      <td>22.26</td>\n",
       "      <td>10.49</td>\n",
       "      <td>20</td>\n",
       "      <td>False</td>\n",
       "    </tr>\n",
       "    <tr>\n",
       "      <th>450</th>\n",
       "      <td>451</td>\n",
       "      <td>144</td>\n",
       "      <td>4.00</td>\n",
       "      <td>5.03</td>\n",
       "      <td>25.78</td>\n",
       "      <td>True</td>\n",
       "      <td>57</td>\n",
       "      <td>27.55</td>\n",
       "      <td>90.00</td>\n",
       "      <td>48</td>\n",
       "      <td>True</td>\n",
       "    </tr>\n",
       "    <tr>\n",
       "      <th>451</th>\n",
       "      <td>452</td>\n",
       "      <td>136</td>\n",
       "      <td>1.81</td>\n",
       "      <td>3.31</td>\n",
       "      <td>6.74</td>\n",
       "      <td>False</td>\n",
       "      <td>63</td>\n",
       "      <td>19.57</td>\n",
       "      <td>24.94</td>\n",
       "      <td>24</td>\n",
       "      <td>False</td>\n",
       "    </tr>\n",
       "    <tr>\n",
       "      <th>452</th>\n",
       "      <td>453</td>\n",
       "      <td>120</td>\n",
       "      <td>0.00</td>\n",
       "      <td>2.77</td>\n",
       "      <td>13.35</td>\n",
       "      <td>False</td>\n",
       "      <td>67</td>\n",
       "      <td>23.37</td>\n",
       "      <td>1.03</td>\n",
       "      <td>18</td>\n",
       "      <td>False</td>\n",
       "    </tr>\n",
       "    <tr>\n",
       "      <th>453</th>\n",
       "      <td>454</td>\n",
       "      <td>154</td>\n",
       "      <td>5.53</td>\n",
       "      <td>3.20</td>\n",
       "      <td>28.81</td>\n",
       "      <td>True</td>\n",
       "      <td>61</td>\n",
       "      <td>26.15</td>\n",
       "      <td>42.79</td>\n",
       "      <td>42</td>\n",
       "      <td>False</td>\n",
       "    </tr>\n",
       "    <tr>\n",
       "      <th>454</th>\n",
       "      <td>455</td>\n",
       "      <td>124</td>\n",
       "      <td>1.60</td>\n",
       "      <td>7.22</td>\n",
       "      <td>39.68</td>\n",
       "      <td>True</td>\n",
       "      <td>36</td>\n",
       "      <td>31.50</td>\n",
       "      <td>0.00</td>\n",
       "      <td>51</td>\n",
       "      <td>True</td>\n",
       "    </tr>\n",
       "    <tr>\n",
       "      <th>455</th>\n",
       "      <td>456</td>\n",
       "      <td>146</td>\n",
       "      <td>0.64</td>\n",
       "      <td>4.82</td>\n",
       "      <td>28.02</td>\n",
       "      <td>False</td>\n",
       "      <td>60</td>\n",
       "      <td>28.11</td>\n",
       "      <td>8.23</td>\n",
       "      <td>39</td>\n",
       "      <td>True</td>\n",
       "    </tr>\n",
       "    <tr>\n",
       "      <th>456</th>\n",
       "      <td>457</td>\n",
       "      <td>128</td>\n",
       "      <td>2.24</td>\n",
       "      <td>2.83</td>\n",
       "      <td>26.48</td>\n",
       "      <td>False</td>\n",
       "      <td>48</td>\n",
       "      <td>23.96</td>\n",
       "      <td>47.42</td>\n",
       "      <td>27</td>\n",
       "      <td>True</td>\n",
       "    </tr>\n",
       "    <tr>\n",
       "      <th>457</th>\n",
       "      <td>458</td>\n",
       "      <td>170</td>\n",
       "      <td>0.40</td>\n",
       "      <td>4.11</td>\n",
       "      <td>42.06</td>\n",
       "      <td>True</td>\n",
       "      <td>56</td>\n",
       "      <td>33.10</td>\n",
       "      <td>2.06</td>\n",
       "      <td>57</td>\n",
       "      <td>False</td>\n",
       "    </tr>\n",
       "    <tr>\n",
       "      <th>458</th>\n",
       "      <td>459</td>\n",
       "      <td>214</td>\n",
       "      <td>0.40</td>\n",
       "      <td>5.98</td>\n",
       "      <td>31.72</td>\n",
       "      <td>False</td>\n",
       "      <td>64</td>\n",
       "      <td>28.45</td>\n",
       "      <td>0.00</td>\n",
       "      <td>58</td>\n",
       "      <td>False</td>\n",
       "    </tr>\n",
       "    <tr>\n",
       "      <th>459</th>\n",
       "      <td>460</td>\n",
       "      <td>182</td>\n",
       "      <td>4.20</td>\n",
       "      <td>4.41</td>\n",
       "      <td>32.10</td>\n",
       "      <td>False</td>\n",
       "      <td>52</td>\n",
       "      <td>28.61</td>\n",
       "      <td>18.72</td>\n",
       "      <td>52</td>\n",
       "      <td>True</td>\n",
       "    </tr>\n",
       "    <tr>\n",
       "      <th>460</th>\n",
       "      <td>461</td>\n",
       "      <td>108</td>\n",
       "      <td>3.00</td>\n",
       "      <td>1.59</td>\n",
       "      <td>15.23</td>\n",
       "      <td>False</td>\n",
       "      <td>40</td>\n",
       "      <td>20.09</td>\n",
       "      <td>26.64</td>\n",
       "      <td>55</td>\n",
       "      <td>False</td>\n",
       "    </tr>\n",
       "    <tr>\n",
       "      <th>461</th>\n",
       "      <td>462</td>\n",
       "      <td>118</td>\n",
       "      <td>5.40</td>\n",
       "      <td>11.61</td>\n",
       "      <td>30.79</td>\n",
       "      <td>False</td>\n",
       "      <td>64</td>\n",
       "      <td>27.35</td>\n",
       "      <td>23.97</td>\n",
       "      <td>40</td>\n",
       "      <td>False</td>\n",
       "    </tr>\n",
       "    <tr>\n",
       "      <th>462</th>\n",
       "      <td>463</td>\n",
       "      <td>132</td>\n",
       "      <td>0.00</td>\n",
       "      <td>4.82</td>\n",
       "      <td>33.41</td>\n",
       "      <td>True</td>\n",
       "      <td>62</td>\n",
       "      <td>14.70</td>\n",
       "      <td>0.00</td>\n",
       "      <td>46</td>\n",
       "      <td>True</td>\n",
       "    </tr>\n",
       "  </tbody>\n",
       "</table>\n",
       "</div>"
      ],
      "text/plain": [
       "     index  systolic_blood_presure  cumulative_tobacco(kg)  cholesterol  \\\n",
       "443    444                     166                    6.00         8.80   \n",
       "444    445                     134                    0.57         4.75   \n",
       "445    446                     142                    3.00         3.69   \n",
       "446    447                     136                    2.80         2.53   \n",
       "447    448                     142                    0.00         4.32   \n",
       "448    449                     130                    0.00         1.88   \n",
       "449    450                     124                    1.80         3.74   \n",
       "450    451                     144                    4.00         5.03   \n",
       "451    452                     136                    1.81         3.31   \n",
       "452    453                     120                    0.00         2.77   \n",
       "453    454                     154                    5.53         3.20   \n",
       "454    455                     124                    1.60         7.22   \n",
       "455    456                     146                    0.64         4.82   \n",
       "456    457                     128                    2.24         2.83   \n",
       "457    458                     170                    0.40         4.11   \n",
       "458    459                     214                    0.40         5.98   \n",
       "459    460                     182                    4.20         4.41   \n",
       "460    461                     108                    3.00         1.59   \n",
       "461    462                     118                    5.40        11.61   \n",
       "462    463                     132                    0.00         4.82   \n",
       "\n",
       "     adiposity  family_history  typea  obesity  alcohol_consumption  age  \\\n",
       "443      37.89           False     39    28.70                43.20   52   \n",
       "444      23.07           False     67    26.33                 0.00   37   \n",
       "445      25.10           False     60    30.08                38.88   27   \n",
       "446       9.28            True     61    20.70                 4.55   25   \n",
       "447      25.22           False     47    28.92                 6.53   34   \n",
       "448      12.51            True     52    20.28                 0.00   17   \n",
       "449      16.64            True     42    22.26                10.49   20   \n",
       "450      25.78            True     57    27.55                90.00   48   \n",
       "451       6.74           False     63    19.57                24.94   24   \n",
       "452      13.35           False     67    23.37                 1.03   18   \n",
       "453      28.81            True     61    26.15                42.79   42   \n",
       "454      39.68            True     36    31.50                 0.00   51   \n",
       "455      28.02           False     60    28.11                 8.23   39   \n",
       "456      26.48           False     48    23.96                47.42   27   \n",
       "457      42.06            True     56    33.10                 2.06   57   \n",
       "458      31.72           False     64    28.45                 0.00   58   \n",
       "459      32.10           False     52    28.61                18.72   52   \n",
       "460      15.23           False     40    20.09                26.64   55   \n",
       "461      30.79           False     64    27.35                23.97   40   \n",
       "462      33.41            True     62    14.70                 0.00   46   \n",
       "\n",
       "     coronary_heart_disease  \n",
       "443                   False  \n",
       "444                   False  \n",
       "445                   False  \n",
       "446                   False  \n",
       "447                    True  \n",
       "448                   False  \n",
       "449                   False  \n",
       "450                    True  \n",
       "451                   False  \n",
       "452                   False  \n",
       "453                   False  \n",
       "454                    True  \n",
       "455                    True  \n",
       "456                    True  \n",
       "457                   False  \n",
       "458                   False  \n",
       "459                    True  \n",
       "460                   False  \n",
       "461                   False  \n",
       "462                    True  "
      ]
     },
     "execution_count": 4,
     "metadata": {},
     "output_type": "execute_result"
    }
   ],
   "source": [
    "Heart.tail(20)"
   ]
  },
  {
   "cell_type": "markdown",
   "metadata": {},
   "source": [
    "**2.5** Print the number of rows and columns of the DataFrame.\n",
    "\n",
    "[1 Mark]"
   ]
  },
  {
   "cell_type": "code",
   "execution_count": 5,
   "metadata": {},
   "outputs": [
    {
     "name": "stdout",
     "output_type": "stream",
     "text": [
      "(463, 11)\n"
     ]
    }
   ],
   "source": [
    "print(Heart.shape)"
   ]
  },
  {
   "cell_type": "markdown",
   "metadata": {},
   "source": [
    "**2.6** Count the number of records according to those with a family history of heart disease and those without a family history of heart disease.\n",
    "\n",
    "[2 Marks]"
   ]
  },
  {
   "cell_type": "code",
   "execution_count": 6,
   "metadata": {},
   "outputs": [
    {
     "name": "stdout",
     "output_type": "stream",
     "text": [
      "family_history\n",
      "False    271\n",
      "True     192\n",
      "dtype: int64\n"
     ]
    }
   ],
   "source": [
    "counts = Heart.groupby('family_history').size()\n",
    "print(counts)"
   ]
  },
  {
   "cell_type": "markdown",
   "metadata": {},
   "source": [
    "**2.7** Determine the persentage of all the patients with coronary heart disease.\n",
    "\n",
    "[3 Marks]"
   ]
  },
  {
   "cell_type": "code",
   "execution_count": 7,
   "metadata": {},
   "outputs": [
    {
     "name": "stdout",
     "output_type": "stream",
     "text": [
      "The percentage of patients with coronary heart disease:  34 %.\n"
     ]
    }
   ],
   "source": [
    "heart_disease = Heart[(Heart.coronary_heart_disease == True)]\n",
    "print('The percentage of patients with coronary heart disease: ', int(len(heart_disease)/float(len(Heart))*100), '%.')"
   ]
  },
  {
   "cell_type": "markdown",
   "metadata": {},
   "source": [
    "**2.8** Determine the persentage of patients with a family history of heart disease who contracted coronary heart disease.\n",
    "\n",
    "[5 Marks]"
   ]
  },
  {
   "cell_type": "code",
   "execution_count": 8,
   "metadata": {},
   "outputs": [
    {
     "name": "stdout",
     "output_type": "stream",
     "text": [
      "The percentage of patients with a family history who contracted coronary heart disease:  50 %.\n"
     ]
    }
   ],
   "source": [
    "family_history = Heart[(Heart.family_history == True)]\n",
    "family_history_heart_disease = Heart[(Heart.coronary_heart_disease == True) & (Heart.family_history == True)]\n",
    "print('The percentage of patients with a family history who contracted coronary heart disease: ', int(len(family_history_heart_disease)/float(len(family_history))*100), '%.')"
   ]
  },
  {
   "cell_type": "markdown",
   "metadata": {},
   "source": [
    "**2.9** Determine the persentage of patients without a family history of heart disease who contracted coronary heart disease.\n",
    "\n",
    "[5 Marks]"
   ]
  },
  {
   "cell_type": "code",
   "execution_count": 9,
   "metadata": {},
   "outputs": [
    {
     "name": "stdout",
     "output_type": "stream",
     "text": [
      "The percentage of patients without a family history who contracted coronary heart disease:  33 %.\n"
     ]
    }
   ],
   "source": [
    "no_family_history = Heart[(Heart.family_history == False)]\n",
    "no_family_history_heart_disease = Heart[(Heart.coronary_heart_disease == True) & (Heart.family_history == False)]\n",
    "print('The percentage of patients without a family history who contracted coronary heart disease: ', int(len(no_family_history_heart_disease)/float(len(family_history))*100), '%.')"
   ]
  },
  {
   "cell_type": "markdown",
   "metadata": {},
   "source": [
    "**2.10** Determine the average age of patients who contracted coronary heart disease.\n",
    "\n",
    "[2 Marks]"
   ]
  },
  {
   "cell_type": "code",
   "execution_count": 10,
   "metadata": {},
   "outputs": [
    {
     "name": "stdout",
     "output_type": "stream",
     "text": [
      "The average age of patients with coronary heart disease:  50.29375\n"
     ]
    }
   ],
   "source": [
    "heart_disease = Heart[(Heart.coronary_heart_disease == True)]\n",
    "print('The average age of patients with coronary heart disease: ', heart_disease.age.mean())"
   ]
  },
  {
   "cell_type": "markdown",
   "metadata": {},
   "source": [
    "**2.11** Determine the middle age (median age) of patients who contracted coronary heart disease.\n",
    "\n",
    "[2 Marks]"
   ]
  },
  {
   "cell_type": "code",
   "execution_count": 11,
   "metadata": {},
   "outputs": [
    {
     "name": "stdout",
     "output_type": "stream",
     "text": [
      "The median age of patients with coronary heart disease:  53.0\n"
     ]
    }
   ],
   "source": [
    "heart_disease = Heart[(Heart.coronary_heart_disease == True)]\n",
    "print('The median age of patients with coronary heart disease: ', heart_disease.age.median())"
   ]
  },
  {
   "cell_type": "markdown",
   "metadata": {},
   "source": [
    "**2.12** Print the answer to the following question:\n",
    "Are there any outliers with regard to the age of patients? Motivate your answer.\n",
    "\n",
    "[2 Marks]"
   ]
  },
  {
   "cell_type": "code",
   "execution_count": 12,
   "metadata": {},
   "outputs": [
    {
     "name": "stdout",
     "output_type": "stream",
     "text": [
      "No... The chances of outliers are very slim because the mean and the median age are very similar.\n"
     ]
    }
   ],
   "source": [
    "print('No... The chances of outliers are very slim because the mean and the median age are very similar.')"
   ]
  },
  {
   "cell_type": "markdown",
   "metadata": {},
   "source": [
    "**2.13** Compare the data of patients with a family history of heart disease who contracted coronary heart disease with patients without a family history of heart disease who contracted coronary heart disease by plotting two overlapping histograms for the data according to their age.\n",
    "\n",
    "[5 Marks]"
   ]
  },
  {
   "cell_type": "code",
   "execution_count": 13,
   "metadata": {},
   "outputs": [
    {
     "data": {
      "image/png": "[encoded data removed]",
      "text/plain": [
       "<Figure size 432x288 with 1 Axes>"
      ]
     },
     "metadata": {
      "needs_background": "light"
     },
     "output_type": "display_data"
    }
   ],
   "source": [
    "import seaborn as sns\n",
    "\n",
    "family_history_heart_disease['age'].hist(density=0, histtype='stepfilled', alpha=.5, bins=20)\n",
    "no_family_history_heart_disease['age'].hist(density=0, histtype='stepfilled', alpha=.5, color=sns.desaturate(\"indianred\", .75), bins=20)\n",
    "plt.xlabel('Age',fontsize=15)\n",
    "plt.ylabel('Samples',fontsize=15)\n",
    "plt.show()"
   ]
  },
  {
   "cell_type": "markdown",
   "metadata": {},
   "source": [
    "**2.14** Print the answer to the following question:\n",
    "According to the graph in 2.13, does a family history of heart disease increase your chances of developing coronary heart disease?\n",
    "\n",
    "[2 Marks]"
   ]
  },
  {
   "cell_type": "code",
   "execution_count": 14,
   "metadata": {},
   "outputs": [
    {
     "name": "stdout",
     "output_type": "stream",
     "text": [
      "The data shows that at an older age your chances of developing coronary heart disease increases if you have a family history of heart disease. However, the data also shows that for people below 40 years of age chances of developing coronary heart disease is not dependant on a family history of heart disease.\n"
     ]
    }
   ],
   "source": [
    "print('The data shows that at an older age your chances of developing coronary heart disease increases if you have a family history of heart disease. However, the data also shows that for people below 40 years of age chances of developing coronary heart disease is not dependant on a family history of heart disease.')"
   ]
  },
  {
   "cell_type": "code",
   "execution_count": null,
   "metadata": {},
   "outputs": [],
   "source": []
  }
 ],
 "metadata": {
  "kernelspec": {
   "display_name": "Python 3 (ipykernel)",
   "language": "python",
   "name": "python3"
  },
  "language_info": {
   "codemirror_mode": {
    "name": "ipython",
    "version": 3
   },
   "file_extension": ".py",
   "mimetype": "text/x-python",
   "name": "python",
   "nbconvert_exporter": "python",
   "pygments_lexer": "ipython3",
   "version": "3.9.12"
  }
 },
 "nbformat": 4,
 "nbformat_minor": 2
}
